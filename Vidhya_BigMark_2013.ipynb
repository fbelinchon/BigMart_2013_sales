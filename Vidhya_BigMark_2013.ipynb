{
  "nbformat": 4,
  "nbformat_minor": 0,
  "metadata": {
    "colab": {
      "name": "Vidhya_BigMark_2013.ipynb",
      "version": "0.3.2",
      "provenance": [],
      "collapsed_sections": [],
      "toc_visible": true,
      "include_colab_link": true
    },
    "kernelspec": {
      "name": "python3",
      "display_name": "Python 3"
    }
  },
  "cells": [
    {
      "cell_type": "markdown",
      "metadata": {
        "id": "view-in-github",
        "colab_type": "text"
      },
      "source": [
        "<a href=\"https://colab.research.google.com/github/fbelinchon/BigMart_2013_sales/blob/master/Vidhya_BigMark_2013.ipynb\" target=\"_parent\"><img src=\"https://colab.research.google.com/assets/colab-badge.svg\" alt=\"Open In Colab\"/></a>"
      ]
    },
    {
      "metadata": {
        "id": "YNiM01XorzYK",
        "colab_type": "text"
      },
      "cell_type": "markdown",
      "source": [
        "# Analytics Vidhya BigMarket 2013 sales\n"
      ]
    },
    {
      "metadata": {
        "id": "ycwksiMDOo03",
        "colab_type": "text"
      },
      "cell_type": "markdown",
      "source": [
        "## Google Drive Connection\n"
      ]
    },
    {
      "metadata": {
        "id": "f6hPA4PEPclE",
        "colab_type": "code",
        "outputId": "16ec0f0d-dd57-43cb-d5f7-fcb31aba96d6",
        "colab": {
          "base_uri": "https://localhost:8080/",
          "height": 125
        }
      },
      "cell_type": "code",
      "source": [
        "from google.colab import drive\n",
        "drive.mount('/gdrive')"
      ],
      "execution_count": 1,
      "outputs": [
        {
          "output_type": "stream",
          "text": [
            "Go to this URL in a browser: https://accounts.google.com/o/oauth2/auth?client_id=947318989803-6bn6qk8qdgf4n4g3pfee6491hc0brc4i.apps.googleusercontent.com&redirect_uri=urn%3Aietf%3Awg%3Aoauth%3A2.0%3Aoob&scope=email%20https%3A%2F%2Fwww.googleapis.com%2Fauth%2Fdocs.test%20https%3A%2F%2Fwww.googleapis.com%2Fauth%2Fdrive%20https%3A%2F%2Fwww.googleapis.com%2Fauth%2Fdrive.photos.readonly%20https%3A%2F%2Fwww.googleapis.com%2Fauth%2Fpeopleapi.readonly&response_type=code\n",
            "\n",
            "Enter your authorization code:\n",
            "··········\n",
            "Mounted at /gdrive\n"
          ],
          "name": "stdout"
        }
      ]
    },
    {
      "metadata": {
        "id": "2s2987VyueVj",
        "colab_type": "code",
        "colab": {}
      },
      "cell_type": "code",
      "source": [
        "!ln -fs '../gdrive/My Drive/data' '/content'"
      ],
      "execution_count": 0,
      "outputs": []
    },
    {
      "metadata": {
        "id": "ZzGvZkt_PnQr",
        "colab_type": "text"
      },
      "cell_type": "markdown",
      "source": [
        "## Read csv"
      ]
    },
    {
      "metadata": {
        "id": "8Gx5_mn3PxJn",
        "colab_type": "code",
        "colab": {}
      },
      "cell_type": "code",
      "source": [
        "from fastai.tabular import *\n",
        "import json\n",
        "import pdb"
      ],
      "execution_count": 0,
      "outputs": []
    },
    {
      "metadata": {
        "id": "9Wvlyok4P3UV",
        "colab_type": "code",
        "colab": {}
      },
      "cell_type": "code",
      "source": [
        "path = pathlib.Path('/content/data/BigMark/')\n",
        "df_train = pd.read_csv(path/'Train_UWu5bXk.csv')\n",
        "df_test = pd.read_csv(path/'Test_u94Q5KV.csv')\n"
      ],
      "execution_count": 0,
      "outputs": []
    },
    {
      "metadata": {
        "id": "COex0ZFhvbD2",
        "colab_type": "code",
        "outputId": "8e1736c5-e18a-486d-affb-64ac4c7e9f90",
        "colab": {
          "base_uri": "https://localhost:8080/",
          "height": 34
        }
      },
      "cell_type": "code",
      "source": [
        "df_train.shape\n"
      ],
      "execution_count": 0,
      "outputs": [
        {
          "output_type": "execute_result",
          "data": {
            "text/plain": [
              "(8523, 12)"
            ]
          },
          "metadata": {
            "tags": []
          },
          "execution_count": 302
        }
      ]
    },
    {
      "metadata": {
        "id": "hsVTT7ziM7GD",
        "colab_type": "text"
      },
      "cell_type": "markdown",
      "source": [
        "## Data Cleaning"
      ]
    },
    {
      "metadata": {
        "id": "ewvfXStINadG",
        "colab_type": "text"
      },
      "cell_type": "markdown",
      "source": [
        "### Item Fat Content"
      ]
    },
    {
      "metadata": {
        "id": "260LSQaVM_aF",
        "colab_type": "code",
        "outputId": "b967e290-0a6a-43a3-e3a1-a447800e44a8",
        "colab": {
          "base_uri": "https://localhost:8080/",
          "height": 123
        }
      },
      "cell_type": "code",
      "source": [
        "df_train['Item_Fat_Content'].value_counts()"
      ],
      "execution_count": 0,
      "outputs": [
        {
          "output_type": "execute_result",
          "data": {
            "text/plain": [
              "Low Fat    5089\n",
              "Regular    2889\n",
              "LF          316\n",
              "reg         117\n",
              "low fat     112\n",
              "Name: Item_Fat_Content, dtype: int64"
            ]
          },
          "metadata": {
            "tags": []
          },
          "execution_count": 303
        }
      ]
    },
    {
      "metadata": {
        "id": "nC9K4rT_iygL",
        "colab_type": "code",
        "colab": {}
      },
      "cell_type": "code",
      "source": [
        "def ItemFat_Cleaning(df):\n",
        "    df['Item_Fat_Content'] =df['Item_Fat_Content'].map(lambda x: 'Low Fat' if (x == 'LF' or x == 'low fat') else x)\n",
        "    df['Item_Fat_Content'] =df['Item_Fat_Content'].map(lambda x: 'Regular' if (x == 'reg') else x)"
      ],
      "execution_count": 0,
      "outputs": []
    },
    {
      "metadata": {
        "id": "GoEQyY90jJwU",
        "colab_type": "code",
        "colab": {}
      },
      "cell_type": "code",
      "source": [
        "ItemFat_Cleaning(df_train)\n",
        "ItemFat_Cleaning(df_test)"
      ],
      "execution_count": 0,
      "outputs": []
    },
    {
      "metadata": {
        "id": "WLupLKxnicyN",
        "colab_type": "code",
        "outputId": "da92cbf7-49f1-4c45-e850-6243c7594e81",
        "colab": {
          "base_uri": "https://localhost:8080/",
          "height": 70
        }
      },
      "cell_type": "code",
      "source": [
        "df_train['Item_Fat_Content'].value_counts()"
      ],
      "execution_count": 7,
      "outputs": [
        {
          "output_type": "execute_result",
          "data": {
            "text/plain": [
              "Low Fat    5517\n",
              "Regular    3006\n",
              "Name: Item_Fat_Content, dtype: int64"
            ]
          },
          "metadata": {
            "tags": []
          },
          "execution_count": 7
        }
      ]
    },
    {
      "metadata": {
        "id": "2bZHkS7YjY-L",
        "colab_type": "code",
        "outputId": "1a001584-fd55-4179-8d8e-feb1d2744a03",
        "colab": {
          "base_uri": "https://localhost:8080/",
          "height": 70
        }
      },
      "cell_type": "code",
      "source": [
        "df_test['Item_Fat_Content'].value_counts()"
      ],
      "execution_count": 8,
      "outputs": [
        {
          "output_type": "execute_result",
          "data": {
            "text/plain": [
              "Low Fat    3668\n",
              "Regular    2013\n",
              "Name: Item_Fat_Content, dtype: int64"
            ]
          },
          "metadata": {
            "tags": []
          },
          "execution_count": 8
        }
      ]
    },
    {
      "metadata": {
        "id": "RFyQwHjtjvtu",
        "colab_type": "text"
      },
      "cell_type": "markdown",
      "source": [
        "### Cleaning Item Type"
      ]
    },
    {
      "metadata": {
        "id": "kLm3-AM0lWRl",
        "colab_type": "code",
        "colab": {}
      },
      "cell_type": "code",
      "source": [
        "def createItemCode3(df):\n",
        "    df['Item_identifierCode3']=df['Item_Identifier'].map(lambda x: x[:3])"
      ],
      "execution_count": 0,
      "outputs": []
    },
    {
      "metadata": {
        "id": "SAUb1wBnj0Jp",
        "colab_type": "code",
        "colab": {}
      },
      "cell_type": "code",
      "source": [
        "createItemCode3(df_train)\n",
        "createItemCode3(df_test)"
      ],
      "execution_count": 0,
      "outputs": []
    },
    {
      "metadata": {
        "id": "yWbGvFe9nPQv",
        "colab_type": "code",
        "outputId": "8e2ed17e-8cb0-430a-f703-eae338fe6f05",
        "colab": {
          "base_uri": "https://localhost:8080/",
          "height": 534
        }
      },
      "cell_type": "code",
      "source": [
        "df_train.head(10)"
      ],
      "execution_count": 11,
      "outputs": [
        {
          "output_type": "execute_result",
          "data": {
            "text/html": [
              "<div>\n",
              "<style scoped>\n",
              "    .dataframe tbody tr th:only-of-type {\n",
              "        vertical-align: middle;\n",
              "    }\n",
              "\n",
              "    .dataframe tbody tr th {\n",
              "        vertical-align: top;\n",
              "    }\n",
              "\n",
              "    .dataframe thead th {\n",
              "        text-align: right;\n",
              "    }\n",
              "</style>\n",
              "<table border=\"1\" class=\"dataframe\">\n",
              "  <thead>\n",
              "    <tr style=\"text-align: right;\">\n",
              "      <th></th>\n",
              "      <th>Item_Identifier</th>\n",
              "      <th>Item_Weight</th>\n",
              "      <th>Item_Fat_Content</th>\n",
              "      <th>Item_Visibility</th>\n",
              "      <th>Item_Type</th>\n",
              "      <th>Item_MRP</th>\n",
              "      <th>Outlet_Identifier</th>\n",
              "      <th>Outlet_Establishment_Year</th>\n",
              "      <th>Outlet_Size</th>\n",
              "      <th>Outlet_Location_Type</th>\n",
              "      <th>Outlet_Type</th>\n",
              "      <th>Item_Outlet_Sales</th>\n",
              "      <th>Item_identifierCode3</th>\n",
              "    </tr>\n",
              "  </thead>\n",
              "  <tbody>\n",
              "    <tr>\n",
              "      <th>0</th>\n",
              "      <td>FDA15</td>\n",
              "      <td>9.300</td>\n",
              "      <td>Low Fat</td>\n",
              "      <td>0.016047</td>\n",
              "      <td>Dairy</td>\n",
              "      <td>249.8092</td>\n",
              "      <td>OUT049</td>\n",
              "      <td>1999</td>\n",
              "      <td>Medium</td>\n",
              "      <td>Tier 1</td>\n",
              "      <td>Supermarket Type1</td>\n",
              "      <td>3735.1380</td>\n",
              "      <td>FDA</td>\n",
              "    </tr>\n",
              "    <tr>\n",
              "      <th>1</th>\n",
              "      <td>DRC01</td>\n",
              "      <td>5.920</td>\n",
              "      <td>Regular</td>\n",
              "      <td>0.019278</td>\n",
              "      <td>Soft Drinks</td>\n",
              "      <td>48.2692</td>\n",
              "      <td>OUT018</td>\n",
              "      <td>2009</td>\n",
              "      <td>Medium</td>\n",
              "      <td>Tier 3</td>\n",
              "      <td>Supermarket Type2</td>\n",
              "      <td>443.4228</td>\n",
              "      <td>DRC</td>\n",
              "    </tr>\n",
              "    <tr>\n",
              "      <th>2</th>\n",
              "      <td>FDN15</td>\n",
              "      <td>17.500</td>\n",
              "      <td>Low Fat</td>\n",
              "      <td>0.016760</td>\n",
              "      <td>Meat</td>\n",
              "      <td>141.6180</td>\n",
              "      <td>OUT049</td>\n",
              "      <td>1999</td>\n",
              "      <td>Medium</td>\n",
              "      <td>Tier 1</td>\n",
              "      <td>Supermarket Type1</td>\n",
              "      <td>2097.2700</td>\n",
              "      <td>FDN</td>\n",
              "    </tr>\n",
              "    <tr>\n",
              "      <th>3</th>\n",
              "      <td>FDX07</td>\n",
              "      <td>19.200</td>\n",
              "      <td>Regular</td>\n",
              "      <td>0.000000</td>\n",
              "      <td>Fruits and Vegetables</td>\n",
              "      <td>182.0950</td>\n",
              "      <td>OUT010</td>\n",
              "      <td>1998</td>\n",
              "      <td>NaN</td>\n",
              "      <td>Tier 3</td>\n",
              "      <td>Grocery Store</td>\n",
              "      <td>732.3800</td>\n",
              "      <td>FDX</td>\n",
              "    </tr>\n",
              "    <tr>\n",
              "      <th>4</th>\n",
              "      <td>NCD19</td>\n",
              "      <td>8.930</td>\n",
              "      <td>Low Fat</td>\n",
              "      <td>0.000000</td>\n",
              "      <td>Household</td>\n",
              "      <td>53.8614</td>\n",
              "      <td>OUT013</td>\n",
              "      <td>1987</td>\n",
              "      <td>High</td>\n",
              "      <td>Tier 3</td>\n",
              "      <td>Supermarket Type1</td>\n",
              "      <td>994.7052</td>\n",
              "      <td>NCD</td>\n",
              "    </tr>\n",
              "    <tr>\n",
              "      <th>5</th>\n",
              "      <td>FDP36</td>\n",
              "      <td>10.395</td>\n",
              "      <td>Regular</td>\n",
              "      <td>0.000000</td>\n",
              "      <td>Baking Goods</td>\n",
              "      <td>51.4008</td>\n",
              "      <td>OUT018</td>\n",
              "      <td>2009</td>\n",
              "      <td>Medium</td>\n",
              "      <td>Tier 3</td>\n",
              "      <td>Supermarket Type2</td>\n",
              "      <td>556.6088</td>\n",
              "      <td>FDP</td>\n",
              "    </tr>\n",
              "    <tr>\n",
              "      <th>6</th>\n",
              "      <td>FDO10</td>\n",
              "      <td>13.650</td>\n",
              "      <td>Regular</td>\n",
              "      <td>0.012741</td>\n",
              "      <td>Snack Foods</td>\n",
              "      <td>57.6588</td>\n",
              "      <td>OUT013</td>\n",
              "      <td>1987</td>\n",
              "      <td>High</td>\n",
              "      <td>Tier 3</td>\n",
              "      <td>Supermarket Type1</td>\n",
              "      <td>343.5528</td>\n",
              "      <td>FDO</td>\n",
              "    </tr>\n",
              "    <tr>\n",
              "      <th>7</th>\n",
              "      <td>FDP10</td>\n",
              "      <td>NaN</td>\n",
              "      <td>Low Fat</td>\n",
              "      <td>0.127470</td>\n",
              "      <td>Snack Foods</td>\n",
              "      <td>107.7622</td>\n",
              "      <td>OUT027</td>\n",
              "      <td>1985</td>\n",
              "      <td>Medium</td>\n",
              "      <td>Tier 3</td>\n",
              "      <td>Supermarket Type3</td>\n",
              "      <td>4022.7636</td>\n",
              "      <td>FDP</td>\n",
              "    </tr>\n",
              "    <tr>\n",
              "      <th>8</th>\n",
              "      <td>FDH17</td>\n",
              "      <td>16.200</td>\n",
              "      <td>Regular</td>\n",
              "      <td>0.016687</td>\n",
              "      <td>Frozen Foods</td>\n",
              "      <td>96.9726</td>\n",
              "      <td>OUT045</td>\n",
              "      <td>2002</td>\n",
              "      <td>NaN</td>\n",
              "      <td>Tier 2</td>\n",
              "      <td>Supermarket Type1</td>\n",
              "      <td>1076.5986</td>\n",
              "      <td>FDH</td>\n",
              "    </tr>\n",
              "    <tr>\n",
              "      <th>9</th>\n",
              "      <td>FDU28</td>\n",
              "      <td>19.200</td>\n",
              "      <td>Regular</td>\n",
              "      <td>0.094450</td>\n",
              "      <td>Frozen Foods</td>\n",
              "      <td>187.8214</td>\n",
              "      <td>OUT017</td>\n",
              "      <td>2007</td>\n",
              "      <td>NaN</td>\n",
              "      <td>Tier 2</td>\n",
              "      <td>Supermarket Type1</td>\n",
              "      <td>4710.5350</td>\n",
              "      <td>FDU</td>\n",
              "    </tr>\n",
              "  </tbody>\n",
              "</table>\n",
              "</div>"
            ],
            "text/plain": [
              "  Item_Identifier  Item_Weight Item_Fat_Content  Item_Visibility  \\\n",
              "0           FDA15        9.300          Low Fat         0.016047   \n",
              "1           DRC01        5.920          Regular         0.019278   \n",
              "2           FDN15       17.500          Low Fat         0.016760   \n",
              "3           FDX07       19.200          Regular         0.000000   \n",
              "4           NCD19        8.930          Low Fat         0.000000   \n",
              "5           FDP36       10.395          Regular         0.000000   \n",
              "6           FDO10       13.650          Regular         0.012741   \n",
              "7           FDP10          NaN          Low Fat         0.127470   \n",
              "8           FDH17       16.200          Regular         0.016687   \n",
              "9           FDU28       19.200          Regular         0.094450   \n",
              "\n",
              "               Item_Type  Item_MRP Outlet_Identifier  \\\n",
              "0                  Dairy  249.8092            OUT049   \n",
              "1            Soft Drinks   48.2692            OUT018   \n",
              "2                   Meat  141.6180            OUT049   \n",
              "3  Fruits and Vegetables  182.0950            OUT010   \n",
              "4              Household   53.8614            OUT013   \n",
              "5           Baking Goods   51.4008            OUT018   \n",
              "6            Snack Foods   57.6588            OUT013   \n",
              "7            Snack Foods  107.7622            OUT027   \n",
              "8           Frozen Foods   96.9726            OUT045   \n",
              "9           Frozen Foods  187.8214            OUT017   \n",
              "\n",
              "   Outlet_Establishment_Year Outlet_Size Outlet_Location_Type  \\\n",
              "0                       1999      Medium               Tier 1   \n",
              "1                       2009      Medium               Tier 3   \n",
              "2                       1999      Medium               Tier 1   \n",
              "3                       1998         NaN               Tier 3   \n",
              "4                       1987        High               Tier 3   \n",
              "5                       2009      Medium               Tier 3   \n",
              "6                       1987        High               Tier 3   \n",
              "7                       1985      Medium               Tier 3   \n",
              "8                       2002         NaN               Tier 2   \n",
              "9                       2007         NaN               Tier 2   \n",
              "\n",
              "         Outlet_Type  Item_Outlet_Sales Item_identifierCode3  \n",
              "0  Supermarket Type1          3735.1380                  FDA  \n",
              "1  Supermarket Type2           443.4228                  DRC  \n",
              "2  Supermarket Type1          2097.2700                  FDN  \n",
              "3      Grocery Store           732.3800                  FDX  \n",
              "4  Supermarket Type1           994.7052                  NCD  \n",
              "5  Supermarket Type2           556.6088                  FDP  \n",
              "6  Supermarket Type1           343.5528                  FDO  \n",
              "7  Supermarket Type3          4022.7636                  FDP  \n",
              "8  Supermarket Type1          1076.5986                  FDH  \n",
              "9  Supermarket Type1          4710.5350                  FDU  "
            ]
          },
          "metadata": {
            "tags": []
          },
          "execution_count": 11
        }
      ]
    },
    {
      "metadata": {
        "id": "mCQWRmnWnf6M",
        "colab_type": "code",
        "outputId": "f8b00ab1-730e-4674-8cfa-257bf8895e06",
        "colab": {
          "base_uri": "https://localhost:8080/",
          "height": 287
        }
      },
      "cell_type": "code",
      "source": [
        "df_train.describe()"
      ],
      "execution_count": 12,
      "outputs": [
        {
          "output_type": "execute_result",
          "data": {
            "text/html": [
              "<div>\n",
              "<style scoped>\n",
              "    .dataframe tbody tr th:only-of-type {\n",
              "        vertical-align: middle;\n",
              "    }\n",
              "\n",
              "    .dataframe tbody tr th {\n",
              "        vertical-align: top;\n",
              "    }\n",
              "\n",
              "    .dataframe thead th {\n",
              "        text-align: right;\n",
              "    }\n",
              "</style>\n",
              "<table border=\"1\" class=\"dataframe\">\n",
              "  <thead>\n",
              "    <tr style=\"text-align: right;\">\n",
              "      <th></th>\n",
              "      <th>Item_Weight</th>\n",
              "      <th>Item_Visibility</th>\n",
              "      <th>Item_MRP</th>\n",
              "      <th>Outlet_Establishment_Year</th>\n",
              "      <th>Item_Outlet_Sales</th>\n",
              "    </tr>\n",
              "  </thead>\n",
              "  <tbody>\n",
              "    <tr>\n",
              "      <th>count</th>\n",
              "      <td>7060.000000</td>\n",
              "      <td>8523.000000</td>\n",
              "      <td>8523.000000</td>\n",
              "      <td>8523.000000</td>\n",
              "      <td>8523.000000</td>\n",
              "    </tr>\n",
              "    <tr>\n",
              "      <th>mean</th>\n",
              "      <td>12.857645</td>\n",
              "      <td>0.066132</td>\n",
              "      <td>140.992782</td>\n",
              "      <td>1997.831867</td>\n",
              "      <td>2181.288914</td>\n",
              "    </tr>\n",
              "    <tr>\n",
              "      <th>std</th>\n",
              "      <td>4.643456</td>\n",
              "      <td>0.051598</td>\n",
              "      <td>62.275067</td>\n",
              "      <td>8.371760</td>\n",
              "      <td>1706.499616</td>\n",
              "    </tr>\n",
              "    <tr>\n",
              "      <th>min</th>\n",
              "      <td>4.555000</td>\n",
              "      <td>0.000000</td>\n",
              "      <td>31.290000</td>\n",
              "      <td>1985.000000</td>\n",
              "      <td>33.290000</td>\n",
              "    </tr>\n",
              "    <tr>\n",
              "      <th>25%</th>\n",
              "      <td>8.773750</td>\n",
              "      <td>0.026989</td>\n",
              "      <td>93.826500</td>\n",
              "      <td>1987.000000</td>\n",
              "      <td>834.247400</td>\n",
              "    </tr>\n",
              "    <tr>\n",
              "      <th>50%</th>\n",
              "      <td>12.600000</td>\n",
              "      <td>0.053931</td>\n",
              "      <td>143.012800</td>\n",
              "      <td>1999.000000</td>\n",
              "      <td>1794.331000</td>\n",
              "    </tr>\n",
              "    <tr>\n",
              "      <th>75%</th>\n",
              "      <td>16.850000</td>\n",
              "      <td>0.094585</td>\n",
              "      <td>185.643700</td>\n",
              "      <td>2004.000000</td>\n",
              "      <td>3101.296400</td>\n",
              "    </tr>\n",
              "    <tr>\n",
              "      <th>max</th>\n",
              "      <td>21.350000</td>\n",
              "      <td>0.328391</td>\n",
              "      <td>266.888400</td>\n",
              "      <td>2009.000000</td>\n",
              "      <td>13086.964800</td>\n",
              "    </tr>\n",
              "  </tbody>\n",
              "</table>\n",
              "</div>"
            ],
            "text/plain": [
              "       Item_Weight  Item_Visibility     Item_MRP  Outlet_Establishment_Year  \\\n",
              "count  7060.000000      8523.000000  8523.000000                8523.000000   \n",
              "mean     12.857645         0.066132   140.992782                1997.831867   \n",
              "std       4.643456         0.051598    62.275067                   8.371760   \n",
              "min       4.555000         0.000000    31.290000                1985.000000   \n",
              "25%       8.773750         0.026989    93.826500                1987.000000   \n",
              "50%      12.600000         0.053931   143.012800                1999.000000   \n",
              "75%      16.850000         0.094585   185.643700                2004.000000   \n",
              "max      21.350000         0.328391   266.888400                2009.000000   \n",
              "\n",
              "       Item_Outlet_Sales  \n",
              "count        8523.000000  \n",
              "mean         2181.288914  \n",
              "std          1706.499616  \n",
              "min            33.290000  \n",
              "25%           834.247400  \n",
              "50%          1794.331000  \n",
              "75%          3101.296400  \n",
              "max         13086.964800  "
            ]
          },
          "metadata": {
            "tags": []
          },
          "execution_count": 12
        }
      ]
    },
    {
      "metadata": {
        "id": "h4ttJvKCvxa6",
        "colab_type": "code",
        "colab": {}
      },
      "cell_type": "code",
      "source": [
        "meanTable=df_train.groupby('Item_Identifier')['Item_Weight'].transform('mean')\n",
        "meanTable_id=df_train[df_train['Item_Weight'].isnull()].groupby('Item_Identifier')['Item_Weight'].mean()"
      ],
      "execution_count": 0,
      "outputs": []
    },
    {
      "metadata": {
        "id": "Zixim5JAS5oD",
        "colab_type": "code",
        "colab": {}
      },
      "cell_type": "code",
      "source": [
        "df_train.loc[df_train['Item_Weight'].isnull(),'Item_Weight']=meanTable"
      ],
      "execution_count": 0,
      "outputs": []
    },
    {
      "metadata": {
        "id": "gHX2R2GzXnOd",
        "colab_type": "code",
        "colab": {
          "base_uri": "https://localhost:8080/",
          "height": 985
        },
        "outputId": "84b1285b-9bc9-402c-b2ca-6c32f47dca43"
      },
      "cell_type": "code",
      "source": [
        "df_train.loc[df_train['Item_Weight'].isnull(),['Item_Identifier','Item_Weight']].apply(lambda x: x['Item_Identifier'])"
      ],
      "execution_count": 145,
      "outputs": [
        {
          "output_type": "error",
          "ename": "KeyError",
          "evalue": "ignored",
          "traceback": [
            "\u001b[0;31m---------------------------------------------------------------------------\u001b[0m",
            "\u001b[0;31mTypeError\u001b[0m                                 Traceback (most recent call last)",
            "\u001b[0;32mpandas/_libs/index.pyx\u001b[0m in \u001b[0;36mpandas._libs.index.IndexEngine.get_loc\u001b[0;34m()\u001b[0m\n",
            "\u001b[0;32mpandas/_libs/hashtable_class_helper.pxi\u001b[0m in \u001b[0;36mpandas._libs.hashtable.Int64HashTable.get_item\u001b[0;34m()\u001b[0m\n",
            "\u001b[0;31mTypeError\u001b[0m: an integer is required",
            "\nDuring handling of the above exception, another exception occurred:\n",
            "\u001b[0;31mKeyError\u001b[0m                                  Traceback (most recent call last)",
            "\u001b[0;32m<ipython-input-145-3f26b9df4261>\u001b[0m in \u001b[0;36m<module>\u001b[0;34m()\u001b[0m\n\u001b[0;32m----> 1\u001b[0;31m \u001b[0mdf_train\u001b[0m\u001b[0;34m.\u001b[0m\u001b[0mloc\u001b[0m\u001b[0;34m[\u001b[0m\u001b[0mdf_train\u001b[0m\u001b[0;34m[\u001b[0m\u001b[0;34m'Item_Weight'\u001b[0m\u001b[0;34m]\u001b[0m\u001b[0;34m.\u001b[0m\u001b[0misnull\u001b[0m\u001b[0;34m(\u001b[0m\u001b[0;34m)\u001b[0m\u001b[0;34m,\u001b[0m\u001b[0;34m[\u001b[0m\u001b[0;34m'Item_Identifier'\u001b[0m\u001b[0;34m,\u001b[0m\u001b[0;34m'Item_Weight'\u001b[0m\u001b[0;34m]\u001b[0m\u001b[0;34m]\u001b[0m\u001b[0;34m.\u001b[0m\u001b[0mapply\u001b[0m\u001b[0;34m(\u001b[0m\u001b[0;32mlambda\u001b[0m \u001b[0mx\u001b[0m\u001b[0;34m:\u001b[0m \u001b[0mx\u001b[0m\u001b[0;34m[\u001b[0m\u001b[0;34m'Item_Identifier'\u001b[0m\u001b[0;34m]\u001b[0m\u001b[0;34m)\u001b[0m\u001b[0;34m\u001b[0m\u001b[0;34m\u001b[0m\u001b[0m\n\u001b[0m",
            "\u001b[0;32m/usr/local/lib/python3.6/dist-packages/pandas/core/frame.py\u001b[0m in \u001b[0;36mapply\u001b[0;34m(self, func, axis, broadcast, raw, reduce, args, **kwds)\u001b[0m\n\u001b[1;32m   4875\u001b[0m                         \u001b[0mf\u001b[0m\u001b[0;34m,\u001b[0m \u001b[0maxis\u001b[0m\u001b[0;34m,\u001b[0m\u001b[0;34m\u001b[0m\u001b[0;34m\u001b[0m\u001b[0m\n\u001b[1;32m   4876\u001b[0m                         \u001b[0mreduce\u001b[0m\u001b[0;34m=\u001b[0m\u001b[0mreduce\u001b[0m\u001b[0;34m,\u001b[0m\u001b[0;34m\u001b[0m\u001b[0;34m\u001b[0m\u001b[0m\n\u001b[0;32m-> 4877\u001b[0;31m                         ignore_failures=ignore_failures)\n\u001b[0m\u001b[1;32m   4878\u001b[0m             \u001b[0;32melse\u001b[0m\u001b[0;34m:\u001b[0m\u001b[0;34m\u001b[0m\u001b[0;34m\u001b[0m\u001b[0m\n\u001b[1;32m   4879\u001b[0m                 \u001b[0;32mreturn\u001b[0m \u001b[0mself\u001b[0m\u001b[0;34m.\u001b[0m\u001b[0m_apply_broadcast\u001b[0m\u001b[0;34m(\u001b[0m\u001b[0mf\u001b[0m\u001b[0;34m,\u001b[0m \u001b[0maxis\u001b[0m\u001b[0;34m)\u001b[0m\u001b[0;34m\u001b[0m\u001b[0;34m\u001b[0m\u001b[0m\n",
            "\u001b[0;32m/usr/local/lib/python3.6/dist-packages/pandas/core/frame.py\u001b[0m in \u001b[0;36m_apply_standard\u001b[0;34m(self, func, axis, ignore_failures, reduce)\u001b[0m\n\u001b[1;32m   4971\u001b[0m             \u001b[0;32mtry\u001b[0m\u001b[0;34m:\u001b[0m\u001b[0;34m\u001b[0m\u001b[0;34m\u001b[0m\u001b[0m\n\u001b[1;32m   4972\u001b[0m                 \u001b[0;32mfor\u001b[0m \u001b[0mi\u001b[0m\u001b[0;34m,\u001b[0m \u001b[0mv\u001b[0m \u001b[0;32min\u001b[0m \u001b[0menumerate\u001b[0m\u001b[0;34m(\u001b[0m\u001b[0mseries_gen\u001b[0m\u001b[0;34m)\u001b[0m\u001b[0;34m:\u001b[0m\u001b[0;34m\u001b[0m\u001b[0;34m\u001b[0m\u001b[0m\n\u001b[0;32m-> 4973\u001b[0;31m                     \u001b[0mresults\u001b[0m\u001b[0;34m[\u001b[0m\u001b[0mi\u001b[0m\u001b[0;34m]\u001b[0m \u001b[0;34m=\u001b[0m \u001b[0mfunc\u001b[0m\u001b[0;34m(\u001b[0m\u001b[0mv\u001b[0m\u001b[0;34m)\u001b[0m\u001b[0;34m\u001b[0m\u001b[0;34m\u001b[0m\u001b[0m\n\u001b[0m\u001b[1;32m   4974\u001b[0m                     \u001b[0mkeys\u001b[0m\u001b[0;34m.\u001b[0m\u001b[0mappend\u001b[0m\u001b[0;34m(\u001b[0m\u001b[0mv\u001b[0m\u001b[0;34m.\u001b[0m\u001b[0mname\u001b[0m\u001b[0;34m)\u001b[0m\u001b[0;34m\u001b[0m\u001b[0;34m\u001b[0m\u001b[0m\n\u001b[1;32m   4975\u001b[0m             \u001b[0;32mexcept\u001b[0m \u001b[0mException\u001b[0m \u001b[0;32mas\u001b[0m \u001b[0me\u001b[0m\u001b[0;34m:\u001b[0m\u001b[0;34m\u001b[0m\u001b[0;34m\u001b[0m\u001b[0m\n",
            "\u001b[0;32m<ipython-input-145-3f26b9df4261>\u001b[0m in \u001b[0;36m<lambda>\u001b[0;34m(x)\u001b[0m\n\u001b[0;32m----> 1\u001b[0;31m \u001b[0mdf_train\u001b[0m\u001b[0;34m.\u001b[0m\u001b[0mloc\u001b[0m\u001b[0;34m[\u001b[0m\u001b[0mdf_train\u001b[0m\u001b[0;34m[\u001b[0m\u001b[0;34m'Item_Weight'\u001b[0m\u001b[0;34m]\u001b[0m\u001b[0;34m.\u001b[0m\u001b[0misnull\u001b[0m\u001b[0;34m(\u001b[0m\u001b[0;34m)\u001b[0m\u001b[0;34m,\u001b[0m\u001b[0;34m[\u001b[0m\u001b[0;34m'Item_Identifier'\u001b[0m\u001b[0;34m,\u001b[0m\u001b[0;34m'Item_Weight'\u001b[0m\u001b[0;34m]\u001b[0m\u001b[0;34m]\u001b[0m\u001b[0;34m.\u001b[0m\u001b[0mapply\u001b[0m\u001b[0;34m(\u001b[0m\u001b[0;32mlambda\u001b[0m \u001b[0mx\u001b[0m\u001b[0;34m:\u001b[0m \u001b[0mx\u001b[0m\u001b[0;34m[\u001b[0m\u001b[0;34m'Item_Identifier'\u001b[0m\u001b[0;34m]\u001b[0m\u001b[0;34m)\u001b[0m\u001b[0;34m\u001b[0m\u001b[0;34m\u001b[0m\u001b[0m\n\u001b[0m",
            "\u001b[0;32m/usr/local/lib/python3.6/dist-packages/pandas/core/series.py\u001b[0m in \u001b[0;36m__getitem__\u001b[0;34m(self, key)\u001b[0m\n\u001b[1;32m    621\u001b[0m         \u001b[0mkey\u001b[0m \u001b[0;34m=\u001b[0m \u001b[0mcom\u001b[0m\u001b[0;34m.\u001b[0m\u001b[0m_apply_if_callable\u001b[0m\u001b[0;34m(\u001b[0m\u001b[0mkey\u001b[0m\u001b[0;34m,\u001b[0m \u001b[0mself\u001b[0m\u001b[0;34m)\u001b[0m\u001b[0;34m\u001b[0m\u001b[0;34m\u001b[0m\u001b[0m\n\u001b[1;32m    622\u001b[0m         \u001b[0;32mtry\u001b[0m\u001b[0;34m:\u001b[0m\u001b[0;34m\u001b[0m\u001b[0;34m\u001b[0m\u001b[0m\n\u001b[0;32m--> 623\u001b[0;31m             \u001b[0mresult\u001b[0m \u001b[0;34m=\u001b[0m \u001b[0mself\u001b[0m\u001b[0;34m.\u001b[0m\u001b[0mindex\u001b[0m\u001b[0;34m.\u001b[0m\u001b[0mget_value\u001b[0m\u001b[0;34m(\u001b[0m\u001b[0mself\u001b[0m\u001b[0;34m,\u001b[0m \u001b[0mkey\u001b[0m\u001b[0;34m)\u001b[0m\u001b[0;34m\u001b[0m\u001b[0;34m\u001b[0m\u001b[0m\n\u001b[0m\u001b[1;32m    624\u001b[0m \u001b[0;34m\u001b[0m\u001b[0m\n\u001b[1;32m    625\u001b[0m             \u001b[0;32mif\u001b[0m \u001b[0;32mnot\u001b[0m \u001b[0mis_scalar\u001b[0m\u001b[0;34m(\u001b[0m\u001b[0mresult\u001b[0m\u001b[0;34m)\u001b[0m\u001b[0;34m:\u001b[0m\u001b[0;34m\u001b[0m\u001b[0;34m\u001b[0m\u001b[0m\n",
            "\u001b[0;32m/usr/local/lib/python3.6/dist-packages/pandas/core/indexes/base.py\u001b[0m in \u001b[0;36mget_value\u001b[0;34m(self, series, key)\u001b[0m\n\u001b[1;32m   2558\u001b[0m         \u001b[0;32mtry\u001b[0m\u001b[0;34m:\u001b[0m\u001b[0;34m\u001b[0m\u001b[0;34m\u001b[0m\u001b[0m\n\u001b[1;32m   2559\u001b[0m             return self._engine.get_value(s, k,\n\u001b[0;32m-> 2560\u001b[0;31m                                           tz=getattr(series.dtype, 'tz', None))\n\u001b[0m\u001b[1;32m   2561\u001b[0m         \u001b[0;32mexcept\u001b[0m \u001b[0mKeyError\u001b[0m \u001b[0;32mas\u001b[0m \u001b[0me1\u001b[0m\u001b[0;34m:\u001b[0m\u001b[0;34m\u001b[0m\u001b[0;34m\u001b[0m\u001b[0m\n\u001b[1;32m   2562\u001b[0m             \u001b[0;32mif\u001b[0m \u001b[0mlen\u001b[0m\u001b[0;34m(\u001b[0m\u001b[0mself\u001b[0m\u001b[0;34m)\u001b[0m \u001b[0;34m>\u001b[0m \u001b[0;36m0\u001b[0m \u001b[0;32mand\u001b[0m \u001b[0mself\u001b[0m\u001b[0;34m.\u001b[0m\u001b[0minferred_type\u001b[0m \u001b[0;32min\u001b[0m \u001b[0;34m[\u001b[0m\u001b[0;34m'integer'\u001b[0m\u001b[0;34m,\u001b[0m \u001b[0;34m'boolean'\u001b[0m\u001b[0;34m]\u001b[0m\u001b[0;34m:\u001b[0m\u001b[0;34m\u001b[0m\u001b[0;34m\u001b[0m\u001b[0m\n",
            "\u001b[0;32mpandas/_libs/index.pyx\u001b[0m in \u001b[0;36mpandas._libs.index.IndexEngine.get_value\u001b[0;34m()\u001b[0m\n",
            "\u001b[0;32mpandas/_libs/index.pyx\u001b[0m in \u001b[0;36mpandas._libs.index.IndexEngine.get_value\u001b[0;34m()\u001b[0m\n",
            "\u001b[0;32mpandas/_libs/index.pyx\u001b[0m in \u001b[0;36mpandas._libs.index.IndexEngine.get_loc\u001b[0;34m()\u001b[0m\n",
            "\u001b[0;31mKeyError\u001b[0m: ('Item_Identifier', 'occurred at index Item_Identifier')"
          ]
        }
      ]
    },
    {
      "metadata": {
        "id": "N2q23sJWyGjX",
        "colab_type": "code",
        "outputId": "2b20a169-9168-4e44-b4f0-6229ac7ffbd4",
        "colab": {
          "base_uri": "https://localhost:8080/",
          "height": 287
        }
      },
      "cell_type": "code",
      "source": [
        "df_train.describe()"
      ],
      "execution_count": 133,
      "outputs": [
        {
          "output_type": "execute_result",
          "data": {
            "text/html": [
              "<div>\n",
              "<style scoped>\n",
              "    .dataframe tbody tr th:only-of-type {\n",
              "        vertical-align: middle;\n",
              "    }\n",
              "\n",
              "    .dataframe tbody tr th {\n",
              "        vertical-align: top;\n",
              "    }\n",
              "\n",
              "    .dataframe thead th {\n",
              "        text-align: right;\n",
              "    }\n",
              "</style>\n",
              "<table border=\"1\" class=\"dataframe\">\n",
              "  <thead>\n",
              "    <tr style=\"text-align: right;\">\n",
              "      <th></th>\n",
              "      <th>Item_Weight</th>\n",
              "      <th>Item_Visibility</th>\n",
              "      <th>Item_MRP</th>\n",
              "      <th>Outlet_Establishment_Year</th>\n",
              "      <th>Item_Outlet_Sales</th>\n",
              "    </tr>\n",
              "  </thead>\n",
              "  <tbody>\n",
              "    <tr>\n",
              "      <th>count</th>\n",
              "      <td>8519.000000</td>\n",
              "      <td>8523.000000</td>\n",
              "      <td>8523.000000</td>\n",
              "      <td>8523.000000</td>\n",
              "      <td>8523.000000</td>\n",
              "    </tr>\n",
              "    <tr>\n",
              "      <th>mean</th>\n",
              "      <td>12.875420</td>\n",
              "      <td>0.066132</td>\n",
              "      <td>140.992782</td>\n",
              "      <td>1997.831867</td>\n",
              "      <td>2181.288914</td>\n",
              "    </tr>\n",
              "    <tr>\n",
              "      <th>std</th>\n",
              "      <td>4.646098</td>\n",
              "      <td>0.051598</td>\n",
              "      <td>62.275067</td>\n",
              "      <td>8.371760</td>\n",
              "      <td>1706.499616</td>\n",
              "    </tr>\n",
              "    <tr>\n",
              "      <th>min</th>\n",
              "      <td>4.555000</td>\n",
              "      <td>0.000000</td>\n",
              "      <td>31.290000</td>\n",
              "      <td>1985.000000</td>\n",
              "      <td>33.290000</td>\n",
              "    </tr>\n",
              "    <tr>\n",
              "      <th>25%</th>\n",
              "      <td>8.785000</td>\n",
              "      <td>0.026989</td>\n",
              "      <td>93.826500</td>\n",
              "      <td>1987.000000</td>\n",
              "      <td>834.247400</td>\n",
              "    </tr>\n",
              "    <tr>\n",
              "      <th>50%</th>\n",
              "      <td>12.650000</td>\n",
              "      <td>0.053931</td>\n",
              "      <td>143.012800</td>\n",
              "      <td>1999.000000</td>\n",
              "      <td>1794.331000</td>\n",
              "    </tr>\n",
              "    <tr>\n",
              "      <th>75%</th>\n",
              "      <td>16.850000</td>\n",
              "      <td>0.094585</td>\n",
              "      <td>185.643700</td>\n",
              "      <td>2004.000000</td>\n",
              "      <td>3101.296400</td>\n",
              "    </tr>\n",
              "    <tr>\n",
              "      <th>max</th>\n",
              "      <td>21.350000</td>\n",
              "      <td>0.328391</td>\n",
              "      <td>266.888400</td>\n",
              "      <td>2009.000000</td>\n",
              "      <td>13086.964800</td>\n",
              "    </tr>\n",
              "  </tbody>\n",
              "</table>\n",
              "</div>"
            ],
            "text/plain": [
              "       Item_Weight  Item_Visibility     Item_MRP  Outlet_Establishment_Year  \\\n",
              "count  8519.000000      8523.000000  8523.000000                8523.000000   \n",
              "mean     12.875420         0.066132   140.992782                1997.831867   \n",
              "std       4.646098         0.051598    62.275067                   8.371760   \n",
              "min       4.555000         0.000000    31.290000                1985.000000   \n",
              "25%       8.785000         0.026989    93.826500                1987.000000   \n",
              "50%      12.650000         0.053931   143.012800                1999.000000   \n",
              "75%      16.850000         0.094585   185.643700                2004.000000   \n",
              "max      21.350000         0.328391   266.888400                2009.000000   \n",
              "\n",
              "       Item_Outlet_Sales  \n",
              "count        8523.000000  \n",
              "mean         2181.288914  \n",
              "std          1706.499616  \n",
              "min            33.290000  \n",
              "25%           834.247400  \n",
              "50%          1794.331000  \n",
              "75%          3101.296400  \n",
              "max         13086.964800  "
            ]
          },
          "metadata": {
            "tags": []
          },
          "execution_count": 133
        }
      ]
    },
    {
      "metadata": {
        "id": "fMaWugWT3VrD",
        "colab_type": "code",
        "colab": {}
      },
      "cell_type": "code",
      "source": [
        "meanTableTest=df_test.groupby('Item_Identifier')['Item_Weight'].transform('mean')"
      ],
      "execution_count": 0,
      "outputs": []
    },
    {
      "metadata": {
        "id": "FasofLtI3iM4",
        "colab_type": "code",
        "colab": {}
      },
      "cell_type": "code",
      "source": [
        "df_test.loc[df_test['Item_Weight'].isnull(),'Item_Weight']=meanTableTest"
      ],
      "execution_count": 0,
      "outputs": []
    },
    {
      "metadata": {
        "id": "mGE5Ok5OKHp3",
        "colab_type": "code",
        "colab": {
          "base_uri": "https://localhost:8080/",
          "height": 287
        },
        "outputId": "33385a83-1c02-4e29-b9ea-2e0d910c702d"
      },
      "cell_type": "code",
      "source": [
        "df_test.describe()"
      ],
      "execution_count": 19,
      "outputs": [
        {
          "output_type": "execute_result",
          "data": {
            "text/html": [
              "<div>\n",
              "<style scoped>\n",
              "    .dataframe tbody tr th:only-of-type {\n",
              "        vertical-align: middle;\n",
              "    }\n",
              "\n",
              "    .dataframe tbody tr th {\n",
              "        vertical-align: top;\n",
              "    }\n",
              "\n",
              "    .dataframe thead th {\n",
              "        text-align: right;\n",
              "    }\n",
              "</style>\n",
              "<table border=\"1\" class=\"dataframe\">\n",
              "  <thead>\n",
              "    <tr style=\"text-align: right;\">\n",
              "      <th></th>\n",
              "      <th>Item_Weight</th>\n",
              "      <th>Item_Visibility</th>\n",
              "      <th>Item_MRP</th>\n",
              "      <th>Outlet_Establishment_Year</th>\n",
              "    </tr>\n",
              "  </thead>\n",
              "  <tbody>\n",
              "    <tr>\n",
              "      <th>count</th>\n",
              "      <td>5661.000000</td>\n",
              "      <td>5681.000000</td>\n",
              "      <td>5681.000000</td>\n",
              "      <td>5681.000000</td>\n",
              "    </tr>\n",
              "    <tr>\n",
              "      <th>mean</th>\n",
              "      <td>12.675976</td>\n",
              "      <td>0.065684</td>\n",
              "      <td>141.023273</td>\n",
              "      <td>1997.828903</td>\n",
              "    </tr>\n",
              "    <tr>\n",
              "      <th>std</th>\n",
              "      <td>4.657559</td>\n",
              "      <td>0.051252</td>\n",
              "      <td>61.809091</td>\n",
              "      <td>8.372256</td>\n",
              "    </tr>\n",
              "    <tr>\n",
              "      <th>min</th>\n",
              "      <td>4.555000</td>\n",
              "      <td>0.000000</td>\n",
              "      <td>31.990000</td>\n",
              "      <td>1985.000000</td>\n",
              "    </tr>\n",
              "    <tr>\n",
              "      <th>25%</th>\n",
              "      <td>8.630000</td>\n",
              "      <td>0.027047</td>\n",
              "      <td>94.412000</td>\n",
              "      <td>1987.000000</td>\n",
              "    </tr>\n",
              "    <tr>\n",
              "      <th>50%</th>\n",
              "      <td>12.350000</td>\n",
              "      <td>0.054154</td>\n",
              "      <td>141.415400</td>\n",
              "      <td>1999.000000</td>\n",
              "    </tr>\n",
              "    <tr>\n",
              "      <th>75%</th>\n",
              "      <td>16.700000</td>\n",
              "      <td>0.093463</td>\n",
              "      <td>186.026600</td>\n",
              "      <td>2004.000000</td>\n",
              "    </tr>\n",
              "    <tr>\n",
              "      <th>max</th>\n",
              "      <td>21.350000</td>\n",
              "      <td>0.323637</td>\n",
              "      <td>266.588400</td>\n",
              "      <td>2009.000000</td>\n",
              "    </tr>\n",
              "  </tbody>\n",
              "</table>\n",
              "</div>"
            ],
            "text/plain": [
              "       Item_Weight  Item_Visibility     Item_MRP  Outlet_Establishment_Year\n",
              "count  5661.000000      5681.000000  5681.000000                5681.000000\n",
              "mean     12.675976         0.065684   141.023273                1997.828903\n",
              "std       4.657559         0.051252    61.809091                   8.372256\n",
              "min       4.555000         0.000000    31.990000                1985.000000\n",
              "25%       8.630000         0.027047    94.412000                1987.000000\n",
              "50%      12.350000         0.054154   141.415400                1999.000000\n",
              "75%      16.700000         0.093463   186.026600                2004.000000\n",
              "max      21.350000         0.323637   266.588400                2009.000000"
            ]
          },
          "metadata": {
            "tags": []
          },
          "execution_count": 19
        }
      ]
    },
    {
      "metadata": {
        "id": "gMUSFVpLoqXs",
        "colab_type": "code",
        "outputId": "6ee306b0-7968-48c4-8c0d-3cbaaafe574d",
        "colab": {
          "base_uri": "https://localhost:8080/",
          "height": 318
        }
      },
      "cell_type": "code",
      "source": [
        "df_test.loc[df_test['Item_Weight'].isnull()]['Item_Identifier'].value_counts()"
      ],
      "execution_count": 20,
      "outputs": [
        {
          "output_type": "execute_result",
          "data": {
            "text/plain": [
              "FDL58    2\n",
              "FDG50    2\n",
              "FDF22    2\n",
              "FDI45    2\n",
              "FDO22    1\n",
              "FDF05    1\n",
              "FDG57    1\n",
              "FDG09    1\n",
              "FDT21    1\n",
              "FDF04    1\n",
              "DRN47    1\n",
              "FDH58    1\n",
              "FDP28    1\n",
              "FDJ09    1\n",
              "FDY57    1\n",
              "NCJ30    1\n",
              "Name: Item_Identifier, dtype: int64"
            ]
          },
          "metadata": {
            "tags": []
          },
          "execution_count": 20
        }
      ]
    },
    {
      "metadata": {
        "id": "ct0t6gG474cO",
        "colab_type": "code",
        "outputId": "859ca8d9-3f56-4e00-b1e9-a52e8f138a3d",
        "colab": {
          "base_uri": "https://localhost:8080/",
          "height": 287
        }
      },
      "cell_type": "code",
      "source": [
        "df_test.describe()"
      ],
      "execution_count": 0,
      "outputs": [
        {
          "output_type": "execute_result",
          "data": {
            "text/html": [
              "<div>\n",
              "<style scoped>\n",
              "    .dataframe tbody tr th:only-of-type {\n",
              "        vertical-align: middle;\n",
              "    }\n",
              "\n",
              "    .dataframe tbody tr th {\n",
              "        vertical-align: top;\n",
              "    }\n",
              "\n",
              "    .dataframe thead th {\n",
              "        text-align: right;\n",
              "    }\n",
              "</style>\n",
              "<table border=\"1\" class=\"dataframe\">\n",
              "  <thead>\n",
              "    <tr style=\"text-align: right;\">\n",
              "      <th></th>\n",
              "      <th>Item_Weight</th>\n",
              "      <th>Item_Visibility</th>\n",
              "      <th>Item_MRP</th>\n",
              "      <th>Outlet_Establishment_Year</th>\n",
              "    </tr>\n",
              "  </thead>\n",
              "  <tbody>\n",
              "    <tr>\n",
              "      <th>count</th>\n",
              "      <td>5661.000000</td>\n",
              "      <td>5681.000000</td>\n",
              "      <td>5681.000000</td>\n",
              "      <td>5681.000000</td>\n",
              "    </tr>\n",
              "    <tr>\n",
              "      <th>mean</th>\n",
              "      <td>12.675976</td>\n",
              "      <td>0.065684</td>\n",
              "      <td>141.023273</td>\n",
              "      <td>1997.828903</td>\n",
              "    </tr>\n",
              "    <tr>\n",
              "      <th>std</th>\n",
              "      <td>4.657559</td>\n",
              "      <td>0.051252</td>\n",
              "      <td>61.809091</td>\n",
              "      <td>8.372256</td>\n",
              "    </tr>\n",
              "    <tr>\n",
              "      <th>min</th>\n",
              "      <td>4.555000</td>\n",
              "      <td>0.000000</td>\n",
              "      <td>31.990000</td>\n",
              "      <td>1985.000000</td>\n",
              "    </tr>\n",
              "    <tr>\n",
              "      <th>25%</th>\n",
              "      <td>8.630000</td>\n",
              "      <td>0.027047</td>\n",
              "      <td>94.412000</td>\n",
              "      <td>1987.000000</td>\n",
              "    </tr>\n",
              "    <tr>\n",
              "      <th>50%</th>\n",
              "      <td>12.350000</td>\n",
              "      <td>0.054154</td>\n",
              "      <td>141.415400</td>\n",
              "      <td>1999.000000</td>\n",
              "    </tr>\n",
              "    <tr>\n",
              "      <th>75%</th>\n",
              "      <td>16.700000</td>\n",
              "      <td>0.093463</td>\n",
              "      <td>186.026600</td>\n",
              "      <td>2004.000000</td>\n",
              "    </tr>\n",
              "    <tr>\n",
              "      <th>max</th>\n",
              "      <td>21.350000</td>\n",
              "      <td>0.323637</td>\n",
              "      <td>266.588400</td>\n",
              "      <td>2009.000000</td>\n",
              "    </tr>\n",
              "  </tbody>\n",
              "</table>\n",
              "</div>"
            ],
            "text/plain": [
              "       Item_Weight  Item_Visibility     Item_MRP  Outlet_Establishment_Year\n",
              "count  5661.000000      5681.000000  5681.000000                5681.000000\n",
              "mean     12.675976         0.065684   141.023273                1997.828903\n",
              "std       4.657559         0.051252    61.809091                   8.372256\n",
              "min       4.555000         0.000000    31.990000                1985.000000\n",
              "25%       8.630000         0.027047    94.412000                1987.000000\n",
              "50%      12.350000         0.054154   141.415400                1999.000000\n",
              "75%      16.700000         0.093463   186.026600                2004.000000\n",
              "max      21.350000         0.323637   266.588400                2009.000000"
            ]
          },
          "metadata": {
            "tags": []
          },
          "execution_count": 319
        }
      ]
    },
    {
      "metadata": {
        "id": "iZJLGls64CZp",
        "colab_type": "code",
        "outputId": "8c1e4968-74cc-45ce-d525-d5ba14dc938c",
        "colab": {
          "base_uri": "https://localhost:8080/",
          "height": 114
        }
      },
      "cell_type": "code",
      "source": [
        "df_train.loc[df_train['Item_Identifier'] == 'FDK57']"
      ],
      "execution_count": 0,
      "outputs": [
        {
          "output_type": "execute_result",
          "data": {
            "text/html": [
              "<div>\n",
              "<style scoped>\n",
              "    .dataframe tbody tr th:only-of-type {\n",
              "        vertical-align: middle;\n",
              "    }\n",
              "\n",
              "    .dataframe tbody tr th {\n",
              "        vertical-align: top;\n",
              "    }\n",
              "\n",
              "    .dataframe thead th {\n",
              "        text-align: right;\n",
              "    }\n",
              "</style>\n",
              "<table border=\"1\" class=\"dataframe\">\n",
              "  <thead>\n",
              "    <tr style=\"text-align: right;\">\n",
              "      <th></th>\n",
              "      <th>Item_Identifier</th>\n",
              "      <th>Item_Weight</th>\n",
              "      <th>Item_Fat_Content</th>\n",
              "      <th>Item_Visibility</th>\n",
              "      <th>Item_Type</th>\n",
              "      <th>Item_MRP</th>\n",
              "      <th>Outlet_Identifier</th>\n",
              "      <th>Outlet_Establishment_Year</th>\n",
              "      <th>Outlet_Size</th>\n",
              "      <th>Outlet_Location_Type</th>\n",
              "      <th>Outlet_Type</th>\n",
              "      <th>Item_Outlet_Sales</th>\n",
              "      <th>Item_identifierCode3</th>\n",
              "    </tr>\n",
              "  </thead>\n",
              "  <tbody>\n",
              "    <tr>\n",
              "      <th>1922</th>\n",
              "      <td>FDK57</td>\n",
              "      <td>NaN</td>\n",
              "      <td>Low Fat</td>\n",
              "      <td>0.079904</td>\n",
              "      <td>Snack Foods</td>\n",
              "      <td>120.044</td>\n",
              "      <td>OUT027</td>\n",
              "      <td>1985</td>\n",
              "      <td>Medium</td>\n",
              "      <td>Tier 3</td>\n",
              "      <td>Supermarket Type3</td>\n",
              "      <td>4434.228</td>\n",
              "      <td>FDK</td>\n",
              "    </tr>\n",
              "  </tbody>\n",
              "</table>\n",
              "</div>"
            ],
            "text/plain": [
              "     Item_Identifier  Item_Weight Item_Fat_Content  Item_Visibility  \\\n",
              "1922           FDK57          NaN          Low Fat         0.079904   \n",
              "\n",
              "        Item_Type  Item_MRP Outlet_Identifier  Outlet_Establishment_Year  \\\n",
              "1922  Snack Foods   120.044            OUT027                       1985   \n",
              "\n",
              "     Outlet_Size Outlet_Location_Type        Outlet_Type  Item_Outlet_Sales  \\\n",
              "1922      Medium               Tier 3  Supermarket Type3           4434.228   \n",
              "\n",
              "     Item_identifierCode3  \n",
              "1922                  FDK  "
            ]
          },
          "metadata": {
            "tags": []
          },
          "execution_count": 279
        }
      ]
    },
    {
      "metadata": {
        "id": "xhAqBdHg31J6",
        "colab_type": "code",
        "outputId": "386b0d06-cdda-46e0-aaf2-6938b7e4d100",
        "colab": {
          "base_uri": "https://localhost:8080/",
          "height": 2926
        }
      },
      "cell_type": "code",
      "source": [
        "df_train.loc[df_train['Item_Identifier'].isin(['FDL58','FDG50','FDF22','FDI45','FDF05','FDY57','FDT21','FDG09','FDH58','FDO22','NCJ30','FDF04','FDP28','FDJ09','DRN47','FDG57'])]"
      ],
      "execution_count": 0,
      "outputs": [
        {
          "output_type": "execute_result",
          "data": {
            "text/html": [
              "<div>\n",
              "<style scoped>\n",
              "    .dataframe tbody tr th:only-of-type {\n",
              "        vertical-align: middle;\n",
              "    }\n",
              "\n",
              "    .dataframe tbody tr th {\n",
              "        vertical-align: top;\n",
              "    }\n",
              "\n",
              "    .dataframe thead th {\n",
              "        text-align: right;\n",
              "    }\n",
              "</style>\n",
              "<table border=\"1\" class=\"dataframe\">\n",
              "  <thead>\n",
              "    <tr style=\"text-align: right;\">\n",
              "      <th></th>\n",
              "      <th>Item_Identifier</th>\n",
              "      <th>Item_Weight</th>\n",
              "      <th>Item_Fat_Content</th>\n",
              "      <th>Item_Visibility</th>\n",
              "      <th>Item_Type</th>\n",
              "      <th>Item_MRP</th>\n",
              "      <th>Outlet_Identifier</th>\n",
              "      <th>Outlet_Establishment_Year</th>\n",
              "      <th>Outlet_Size</th>\n",
              "      <th>Outlet_Location_Type</th>\n",
              "      <th>Outlet_Type</th>\n",
              "      <th>Item_Outlet_Sales</th>\n",
              "      <th>Item_identifierCode3</th>\n",
              "    </tr>\n",
              "  </thead>\n",
              "  <tbody>\n",
              "    <tr>\n",
              "      <th>191</th>\n",
              "      <td>FDL58</td>\n",
              "      <td>5.780</td>\n",
              "      <td>Regular</td>\n",
              "      <td>0.074264</td>\n",
              "      <td>Snack Foods</td>\n",
              "      <td>264.7568</td>\n",
              "      <td>OUT049</td>\n",
              "      <td>1999</td>\n",
              "      <td>Medium</td>\n",
              "      <td>Tier 1</td>\n",
              "      <td>Supermarket Type1</td>\n",
              "      <td>4745.8224</td>\n",
              "      <td>FDL</td>\n",
              "    </tr>\n",
              "    <tr>\n",
              "      <th>212</th>\n",
              "      <td>FDL58</td>\n",
              "      <td>5.780</td>\n",
              "      <td>Regular</td>\n",
              "      <td>0.000000</td>\n",
              "      <td>Snack Foods</td>\n",
              "      <td>263.7568</td>\n",
              "      <td>OUT017</td>\n",
              "      <td>2007</td>\n",
              "      <td>NaN</td>\n",
              "      <td>Tier 2</td>\n",
              "      <td>Supermarket Type1</td>\n",
              "      <td>2636.5680</td>\n",
              "      <td>FDL</td>\n",
              "    </tr>\n",
              "    <tr>\n",
              "      <th>217</th>\n",
              "      <td>FDP28</td>\n",
              "      <td>13.650</td>\n",
              "      <td>Regular</td>\n",
              "      <td>0.134976</td>\n",
              "      <td>Frozen Foods</td>\n",
              "      <td>260.0936</td>\n",
              "      <td>OUT010</td>\n",
              "      <td>1998</td>\n",
              "      <td>NaN</td>\n",
              "      <td>Tier 3</td>\n",
              "      <td>Grocery Store</td>\n",
              "      <td>260.9936</td>\n",
              "      <td>FDP</td>\n",
              "    </tr>\n",
              "    <tr>\n",
              "      <th>249</th>\n",
              "      <td>FDF05</td>\n",
              "      <td>17.500</td>\n",
              "      <td>Low Fat</td>\n",
              "      <td>0.027023</td>\n",
              "      <td>Frozen Foods</td>\n",
              "      <td>262.4910</td>\n",
              "      <td>OUT017</td>\n",
              "      <td>2007</td>\n",
              "      <td>NaN</td>\n",
              "      <td>Tier 2</td>\n",
              "      <td>Supermarket Type1</td>\n",
              "      <td>5259.8200</td>\n",
              "      <td>FDF</td>\n",
              "    </tr>\n",
              "    <tr>\n",
              "      <th>360</th>\n",
              "      <td>DRN47</td>\n",
              "      <td>12.100</td>\n",
              "      <td>Low Fat</td>\n",
              "      <td>0.016895</td>\n",
              "      <td>Hard Drinks</td>\n",
              "      <td>178.5660</td>\n",
              "      <td>OUT018</td>\n",
              "      <td>2009</td>\n",
              "      <td>Medium</td>\n",
              "      <td>Tier 3</td>\n",
              "      <td>Supermarket Type2</td>\n",
              "      <td>898.8300</td>\n",
              "      <td>DRN</td>\n",
              "    </tr>\n",
              "    <tr>\n",
              "      <th>406</th>\n",
              "      <td>FDF22</td>\n",
              "      <td>6.865</td>\n",
              "      <td>Low Fat</td>\n",
              "      <td>0.056919</td>\n",
              "      <td>Snack Foods</td>\n",
              "      <td>212.8218</td>\n",
              "      <td>OUT049</td>\n",
              "      <td>1999</td>\n",
              "      <td>Medium</td>\n",
              "      <td>Tier 1</td>\n",
              "      <td>Supermarket Type1</td>\n",
              "      <td>5770.4886</td>\n",
              "      <td>FDF</td>\n",
              "    </tr>\n",
              "    <tr>\n",
              "      <th>566</th>\n",
              "      <td>FDL58</td>\n",
              "      <td>5.780</td>\n",
              "      <td>Regular</td>\n",
              "      <td>0.074299</td>\n",
              "      <td>Snack Foods</td>\n",
              "      <td>264.9568</td>\n",
              "      <td>OUT045</td>\n",
              "      <td>2002</td>\n",
              "      <td>NaN</td>\n",
              "      <td>Tier 2</td>\n",
              "      <td>Supermarket Type1</td>\n",
              "      <td>1845.5976</td>\n",
              "      <td>FDL</td>\n",
              "    </tr>\n",
              "    <tr>\n",
              "      <th>570</th>\n",
              "      <td>FDO22</td>\n",
              "      <td>13.500</td>\n",
              "      <td>Regular</td>\n",
              "      <td>0.017960</td>\n",
              "      <td>Snack Foods</td>\n",
              "      <td>81.5960</td>\n",
              "      <td>OUT017</td>\n",
              "      <td>2007</td>\n",
              "      <td>NaN</td>\n",
              "      <td>Tier 2</td>\n",
              "      <td>Supermarket Type1</td>\n",
              "      <td>639.1680</td>\n",
              "      <td>FDO</td>\n",
              "    </tr>\n",
              "    <tr>\n",
              "      <th>594</th>\n",
              "      <td>NCJ30</td>\n",
              "      <td>5.820</td>\n",
              "      <td>Low Fat</td>\n",
              "      <td>0.080640</td>\n",
              "      <td>Household</td>\n",
              "      <td>167.7790</td>\n",
              "      <td>OUT046</td>\n",
              "      <td>1997</td>\n",
              "      <td>Small</td>\n",
              "      <td>Tier 1</td>\n",
              "      <td>Supermarket Type1</td>\n",
              "      <td>2886.2430</td>\n",
              "      <td>NCJ</td>\n",
              "    </tr>\n",
              "    <tr>\n",
              "      <th>688</th>\n",
              "      <td>FDG09</td>\n",
              "      <td>20.600</td>\n",
              "      <td>Regular</td>\n",
              "      <td>0.047927</td>\n",
              "      <td>Fruits and Vegetables</td>\n",
              "      <td>185.9556</td>\n",
              "      <td>OUT035</td>\n",
              "      <td>2004</td>\n",
              "      <td>Small</td>\n",
              "      <td>Tier 2</td>\n",
              "      <td>Supermarket Type1</td>\n",
              "      <td>4318.3788</td>\n",
              "      <td>FDG</td>\n",
              "    </tr>\n",
              "    <tr>\n",
              "      <th>746</th>\n",
              "      <td>DRN47</td>\n",
              "      <td>12.100</td>\n",
              "      <td>Low Fat</td>\n",
              "      <td>0.028165</td>\n",
              "      <td>Hard Drinks</td>\n",
              "      <td>178.1660</td>\n",
              "      <td>OUT010</td>\n",
              "      <td>1998</td>\n",
              "      <td>NaN</td>\n",
              "      <td>Tier 3</td>\n",
              "      <td>Grocery Store</td>\n",
              "      <td>539.2980</td>\n",
              "      <td>DRN</td>\n",
              "    </tr>\n",
              "    <tr>\n",
              "      <th>786</th>\n",
              "      <td>FDH58</td>\n",
              "      <td>12.300</td>\n",
              "      <td>Low Fat</td>\n",
              "      <td>0.037015</td>\n",
              "      <td>Snack Foods</td>\n",
              "      <td>115.1834</td>\n",
              "      <td>OUT045</td>\n",
              "      <td>2002</td>\n",
              "      <td>NaN</td>\n",
              "      <td>Tier 2</td>\n",
              "      <td>Supermarket Type1</td>\n",
              "      <td>1958.1178</td>\n",
              "      <td>FDH</td>\n",
              "    </tr>\n",
              "    <tr>\n",
              "      <th>806</th>\n",
              "      <td>NCJ30</td>\n",
              "      <td>5.820</td>\n",
              "      <td>Low Fat</td>\n",
              "      <td>0.080969</td>\n",
              "      <td>Household</td>\n",
              "      <td>171.3790</td>\n",
              "      <td>OUT018</td>\n",
              "      <td>2009</td>\n",
              "      <td>Medium</td>\n",
              "      <td>Tier 3</td>\n",
              "      <td>Supermarket Type2</td>\n",
              "      <td>2037.3480</td>\n",
              "      <td>NCJ</td>\n",
              "    </tr>\n",
              "    <tr>\n",
              "      <th>845</th>\n",
              "      <td>FDT21</td>\n",
              "      <td>7.420</td>\n",
              "      <td>Low Fat</td>\n",
              "      <td>0.020475</td>\n",
              "      <td>Snack Foods</td>\n",
              "      <td>248.4092</td>\n",
              "      <td>OUT018</td>\n",
              "      <td>2009</td>\n",
              "      <td>Medium</td>\n",
              "      <td>Tier 3</td>\n",
              "      <td>Supermarket Type2</td>\n",
              "      <td>996.0368</td>\n",
              "      <td>FDT</td>\n",
              "    </tr>\n",
              "    <tr>\n",
              "      <th>974</th>\n",
              "      <td>FDG57</td>\n",
              "      <td>14.700</td>\n",
              "      <td>Low Fat</td>\n",
              "      <td>0.072411</td>\n",
              "      <td>Fruits and Vegetables</td>\n",
              "      <td>48.2034</td>\n",
              "      <td>OUT049</td>\n",
              "      <td>1999</td>\n",
              "      <td>Medium</td>\n",
              "      <td>Tier 1</td>\n",
              "      <td>Supermarket Type1</td>\n",
              "      <td>1020.6714</td>\n",
              "      <td>FDG</td>\n",
              "    </tr>\n",
              "    <tr>\n",
              "      <th>1019</th>\n",
              "      <td>FDP28</td>\n",
              "      <td>13.650</td>\n",
              "      <td>Regular</td>\n",
              "      <td>0.081097</td>\n",
              "      <td>Frozen Foods</td>\n",
              "      <td>261.2936</td>\n",
              "      <td>OUT017</td>\n",
              "      <td>2007</td>\n",
              "      <td>NaN</td>\n",
              "      <td>Tier 2</td>\n",
              "      <td>Supermarket Type1</td>\n",
              "      <td>3131.9232</td>\n",
              "      <td>FDP</td>\n",
              "    </tr>\n",
              "    <tr>\n",
              "      <th>1021</th>\n",
              "      <td>FDI45</td>\n",
              "      <td>13.100</td>\n",
              "      <td>Low Fat</td>\n",
              "      <td>0.037550</td>\n",
              "      <td>Fruits and Vegetables</td>\n",
              "      <td>176.1054</td>\n",
              "      <td>OUT013</td>\n",
              "      <td>1987</td>\n",
              "      <td>High</td>\n",
              "      <td>Tier 3</td>\n",
              "      <td>Supermarket Type1</td>\n",
              "      <td>4027.4242</td>\n",
              "      <td>FDI</td>\n",
              "    </tr>\n",
              "    <tr>\n",
              "      <th>1049</th>\n",
              "      <td>FDF04</td>\n",
              "      <td>17.500</td>\n",
              "      <td>Low Fat</td>\n",
              "      <td>0.013634</td>\n",
              "      <td>Frozen Foods</td>\n",
              "      <td>256.4304</td>\n",
              "      <td>OUT035</td>\n",
              "      <td>2004</td>\n",
              "      <td>Small</td>\n",
              "      <td>Tier 2</td>\n",
              "      <td>Supermarket Type1</td>\n",
              "      <td>1808.3128</td>\n",
              "      <td>FDF</td>\n",
              "    </tr>\n",
              "    <tr>\n",
              "      <th>1098</th>\n",
              "      <td>FDF05</td>\n",
              "      <td>17.500</td>\n",
              "      <td>Low Fat</td>\n",
              "      <td>0.026925</td>\n",
              "      <td>Frozen Foods</td>\n",
              "      <td>264.3910</td>\n",
              "      <td>OUT045</td>\n",
              "      <td>2002</td>\n",
              "      <td>NaN</td>\n",
              "      <td>Tier 2</td>\n",
              "      <td>Supermarket Type1</td>\n",
              "      <td>5259.8200</td>\n",
              "      <td>FDF</td>\n",
              "    </tr>\n",
              "    <tr>\n",
              "      <th>1116</th>\n",
              "      <td>NCJ30</td>\n",
              "      <td>5.820</td>\n",
              "      <td>Low Fat</td>\n",
              "      <td>0.081097</td>\n",
              "      <td>Household</td>\n",
              "      <td>170.3790</td>\n",
              "      <td>OUT017</td>\n",
              "      <td>2007</td>\n",
              "      <td>NaN</td>\n",
              "      <td>Tier 2</td>\n",
              "      <td>Supermarket Type1</td>\n",
              "      <td>1018.6740</td>\n",
              "      <td>NCJ</td>\n",
              "    </tr>\n",
              "    <tr>\n",
              "      <th>1233</th>\n",
              "      <td>FDO22</td>\n",
              "      <td>13.500</td>\n",
              "      <td>Regular</td>\n",
              "      <td>0.029893</td>\n",
              "      <td>Snack Foods</td>\n",
              "      <td>81.0960</td>\n",
              "      <td>OUT010</td>\n",
              "      <td>1998</td>\n",
              "      <td>NaN</td>\n",
              "      <td>Tier 3</td>\n",
              "      <td>Grocery Store</td>\n",
              "      <td>159.7920</td>\n",
              "      <td>FDO</td>\n",
              "    </tr>\n",
              "    <tr>\n",
              "      <th>1277</th>\n",
              "      <td>FDG57</td>\n",
              "      <td>14.700</td>\n",
              "      <td>Low Fat</td>\n",
              "      <td>0.072298</td>\n",
              "      <td>Fruits and Vegetables</td>\n",
              "      <td>48.2034</td>\n",
              "      <td>OUT046</td>\n",
              "      <td>1997</td>\n",
              "      <td>Small</td>\n",
              "      <td>Tier 1</td>\n",
              "      <td>Supermarket Type1</td>\n",
              "      <td>874.8612</td>\n",
              "      <td>FDG</td>\n",
              "    </tr>\n",
              "    <tr>\n",
              "      <th>1326</th>\n",
              "      <td>FDF04</td>\n",
              "      <td>17.500</td>\n",
              "      <td>Low Fat</td>\n",
              "      <td>0.000000</td>\n",
              "      <td>Frozen Foods</td>\n",
              "      <td>258.3304</td>\n",
              "      <td>OUT013</td>\n",
              "      <td>1987</td>\n",
              "      <td>High</td>\n",
              "      <td>Tier 3</td>\n",
              "      <td>Supermarket Type1</td>\n",
              "      <td>3358.2952</td>\n",
              "      <td>FDF</td>\n",
              "    </tr>\n",
              "    <tr>\n",
              "      <th>1480</th>\n",
              "      <td>NCJ30</td>\n",
              "      <td>5.820</td>\n",
              "      <td>Low Fat</td>\n",
              "      <td>0.080625</td>\n",
              "      <td>Household</td>\n",
              "      <td>168.3790</td>\n",
              "      <td>OUT035</td>\n",
              "      <td>2004</td>\n",
              "      <td>Small</td>\n",
              "      <td>Tier 2</td>\n",
              "      <td>Supermarket Type1</td>\n",
              "      <td>1188.4530</td>\n",
              "      <td>NCJ</td>\n",
              "    </tr>\n",
              "    <tr>\n",
              "      <th>1487</th>\n",
              "      <td>FDT21</td>\n",
              "      <td>7.420</td>\n",
              "      <td>Low Fat</td>\n",
              "      <td>0.020392</td>\n",
              "      <td>Snack Foods</td>\n",
              "      <td>248.9092</td>\n",
              "      <td>OUT046</td>\n",
              "      <td>1997</td>\n",
              "      <td>Small</td>\n",
              "      <td>Tier 1</td>\n",
              "      <td>Supermarket Type1</td>\n",
              "      <td>2241.0828</td>\n",
              "      <td>FDT</td>\n",
              "    </tr>\n",
              "    <tr>\n",
              "      <th>1762</th>\n",
              "      <td>DRN47</td>\n",
              "      <td>12.100</td>\n",
              "      <td>Low Fat</td>\n",
              "      <td>0.016853</td>\n",
              "      <td>Hard Drinks</td>\n",
              "      <td>180.6660</td>\n",
              "      <td>OUT049</td>\n",
              "      <td>1999</td>\n",
              "      <td>Medium</td>\n",
              "      <td>Tier 1</td>\n",
              "      <td>Supermarket Type1</td>\n",
              "      <td>2876.2560</td>\n",
              "      <td>DRN</td>\n",
              "    </tr>\n",
              "    <tr>\n",
              "      <th>1803</th>\n",
              "      <td>FDI45</td>\n",
              "      <td>13.100</td>\n",
              "      <td>Low Fat</td>\n",
              "      <td>0.037574</td>\n",
              "      <td>Fruits and Vegetables</td>\n",
              "      <td>174.2054</td>\n",
              "      <td>OUT035</td>\n",
              "      <td>2004</td>\n",
              "      <td>Small</td>\n",
              "      <td>Tier 2</td>\n",
              "      <td>Supermarket Type1</td>\n",
              "      <td>3677.2134</td>\n",
              "      <td>FDI</td>\n",
              "    </tr>\n",
              "    <tr>\n",
              "      <th>1813</th>\n",
              "      <td>FDF05</td>\n",
              "      <td>17.500</td>\n",
              "      <td>Low Fat</td>\n",
              "      <td>0.026871</td>\n",
              "      <td>Frozen Foods</td>\n",
              "      <td>264.4910</td>\n",
              "      <td>OUT046</td>\n",
              "      <td>1997</td>\n",
              "      <td>Small</td>\n",
              "      <td>Tier 1</td>\n",
              "      <td>Supermarket Type1</td>\n",
              "      <td>3681.8740</td>\n",
              "      <td>FDF</td>\n",
              "    </tr>\n",
              "    <tr>\n",
              "      <th>1834</th>\n",
              "      <td>FDP28</td>\n",
              "      <td>13.650</td>\n",
              "      <td>Regular</td>\n",
              "      <td>0.080640</td>\n",
              "      <td>Frozen Foods</td>\n",
              "      <td>262.6936</td>\n",
              "      <td>OUT046</td>\n",
              "      <td>1997</td>\n",
              "      <td>Small</td>\n",
              "      <td>Tier 1</td>\n",
              "      <td>Supermarket Type1</td>\n",
              "      <td>4175.8976</td>\n",
              "      <td>FDP</td>\n",
              "    </tr>\n",
              "    <tr>\n",
              "      <th>1852</th>\n",
              "      <td>FDG57</td>\n",
              "      <td>14.700</td>\n",
              "      <td>Low Fat</td>\n",
              "      <td>0.072593</td>\n",
              "      <td>Fruits and Vegetables</td>\n",
              "      <td>48.5034</td>\n",
              "      <td>OUT018</td>\n",
              "      <td>2009</td>\n",
              "      <td>Medium</td>\n",
              "      <td>Tier 3</td>\n",
              "      <td>Supermarket Type2</td>\n",
              "      <td>874.8612</td>\n",
              "      <td>FDG</td>\n",
              "    </tr>\n",
              "    <tr>\n",
              "      <th>...</th>\n",
              "      <td>...</td>\n",
              "      <td>...</td>\n",
              "      <td>...</td>\n",
              "      <td>...</td>\n",
              "      <td>...</td>\n",
              "      <td>...</td>\n",
              "      <td>...</td>\n",
              "      <td>...</td>\n",
              "      <td>...</td>\n",
              "      <td>...</td>\n",
              "      <td>...</td>\n",
              "      <td>...</td>\n",
              "      <td>...</td>\n",
              "    </tr>\n",
              "    <tr>\n",
              "      <th>5989</th>\n",
              "      <td>NCJ30</td>\n",
              "      <td>5.820</td>\n",
              "      <td>Low Fat</td>\n",
              "      <td>0.080804</td>\n",
              "      <td>Household</td>\n",
              "      <td>171.4790</td>\n",
              "      <td>OUT045</td>\n",
              "      <td>2002</td>\n",
              "      <td>NaN</td>\n",
              "      <td>Tier 2</td>\n",
              "      <td>Supermarket Type1</td>\n",
              "      <td>4074.6960</td>\n",
              "      <td>NCJ</td>\n",
              "    </tr>\n",
              "    <tr>\n",
              "      <th>6151</th>\n",
              "      <td>FDO22</td>\n",
              "      <td>13.500</td>\n",
              "      <td>Regular</td>\n",
              "      <td>0.017932</td>\n",
              "      <td>Snack Foods</td>\n",
              "      <td>78.7960</td>\n",
              "      <td>OUT018</td>\n",
              "      <td>2009</td>\n",
              "      <td>Medium</td>\n",
              "      <td>Tier 3</td>\n",
              "      <td>Supermarket Type2</td>\n",
              "      <td>239.6880</td>\n",
              "      <td>FDO</td>\n",
              "    </tr>\n",
              "    <tr>\n",
              "      <th>6380</th>\n",
              "      <td>FDG09</td>\n",
              "      <td>20.600</td>\n",
              "      <td>Regular</td>\n",
              "      <td>0.048033</td>\n",
              "      <td>Fruits and Vegetables</td>\n",
              "      <td>188.2556</td>\n",
              "      <td>OUT045</td>\n",
              "      <td>2002</td>\n",
              "      <td>NaN</td>\n",
              "      <td>Tier 2</td>\n",
              "      <td>Supermarket Type1</td>\n",
              "      <td>3755.1120</td>\n",
              "      <td>FDG</td>\n",
              "    </tr>\n",
              "    <tr>\n",
              "      <th>6638</th>\n",
              "      <td>FDG50</td>\n",
              "      <td>7.405</td>\n",
              "      <td>Low Fat</td>\n",
              "      <td>0.015296</td>\n",
              "      <td>Canned</td>\n",
              "      <td>89.7146</td>\n",
              "      <td>OUT049</td>\n",
              "      <td>1999</td>\n",
              "      <td>Medium</td>\n",
              "      <td>Tier 1</td>\n",
              "      <td>Supermarket Type1</td>\n",
              "      <td>547.2876</td>\n",
              "      <td>FDG</td>\n",
              "    </tr>\n",
              "    <tr>\n",
              "      <th>6844</th>\n",
              "      <td>FDG09</td>\n",
              "      <td>20.600</td>\n",
              "      <td>Regular</td>\n",
              "      <td>0.047896</td>\n",
              "      <td>Fruits and Vegetables</td>\n",
              "      <td>185.8556</td>\n",
              "      <td>OUT013</td>\n",
              "      <td>1987</td>\n",
              "      <td>High</td>\n",
              "      <td>Tier 3</td>\n",
              "      <td>Supermarket Type1</td>\n",
              "      <td>1689.8004</td>\n",
              "      <td>FDG</td>\n",
              "    </tr>\n",
              "    <tr>\n",
              "      <th>6900</th>\n",
              "      <td>DRN47</td>\n",
              "      <td>12.100</td>\n",
              "      <td>Low Fat</td>\n",
              "      <td>0.016922</td>\n",
              "      <td>Hard Drinks</td>\n",
              "      <td>178.3660</td>\n",
              "      <td>OUT017</td>\n",
              "      <td>2007</td>\n",
              "      <td>NaN</td>\n",
              "      <td>Tier 2</td>\n",
              "      <td>Supermarket Type1</td>\n",
              "      <td>4314.3840</td>\n",
              "      <td>DRN</td>\n",
              "    </tr>\n",
              "    <tr>\n",
              "      <th>6901</th>\n",
              "      <td>FDT21</td>\n",
              "      <td>7.420</td>\n",
              "      <td>Low Fat</td>\n",
              "      <td>0.020424</td>\n",
              "      <td>Snack Foods</td>\n",
              "      <td>249.0092</td>\n",
              "      <td>OUT049</td>\n",
              "      <td>1999</td>\n",
              "      <td>Medium</td>\n",
              "      <td>Tier 1</td>\n",
              "      <td>Supermarket Type1</td>\n",
              "      <td>2988.1104</td>\n",
              "      <td>FDT</td>\n",
              "    </tr>\n",
              "    <tr>\n",
              "      <th>6993</th>\n",
              "      <td>FDT21</td>\n",
              "      <td>7.420</td>\n",
              "      <td>Low Fat</td>\n",
              "      <td>0.020507</td>\n",
              "      <td>Snack Foods</td>\n",
              "      <td>249.7092</td>\n",
              "      <td>OUT017</td>\n",
              "      <td>2007</td>\n",
              "      <td>NaN</td>\n",
              "      <td>Tier 2</td>\n",
              "      <td>Supermarket Type1</td>\n",
              "      <td>7719.2852</td>\n",
              "      <td>FDT</td>\n",
              "    </tr>\n",
              "    <tr>\n",
              "      <th>7082</th>\n",
              "      <td>FDI45</td>\n",
              "      <td>13.100</td>\n",
              "      <td>Low Fat</td>\n",
              "      <td>0.037794</td>\n",
              "      <td>Fruits and Vegetables</td>\n",
              "      <td>173.8054</td>\n",
              "      <td>OUT017</td>\n",
              "      <td>2007</td>\n",
              "      <td>NaN</td>\n",
              "      <td>Tier 2</td>\n",
              "      <td>Supermarket Type1</td>\n",
              "      <td>2801.6864</td>\n",
              "      <td>FDI</td>\n",
              "    </tr>\n",
              "    <tr>\n",
              "      <th>7149</th>\n",
              "      <td>FDT21</td>\n",
              "      <td>7.420</td>\n",
              "      <td>Low Fat</td>\n",
              "      <td>0.000000</td>\n",
              "      <td>Snack Foods</td>\n",
              "      <td>248.8092</td>\n",
              "      <td>OUT027</td>\n",
              "      <td>1985</td>\n",
              "      <td>Medium</td>\n",
              "      <td>Tier 3</td>\n",
              "      <td>Supermarket Type3</td>\n",
              "      <td>6474.2392</td>\n",
              "      <td>FDT</td>\n",
              "    </tr>\n",
              "    <tr>\n",
              "      <th>7176</th>\n",
              "      <td>NCJ30</td>\n",
              "      <td>5.820</td>\n",
              "      <td>Low Fat</td>\n",
              "      <td>0.080766</td>\n",
              "      <td>Household</td>\n",
              "      <td>169.1790</td>\n",
              "      <td>OUT049</td>\n",
              "      <td>1999</td>\n",
              "      <td>Medium</td>\n",
              "      <td>Tier 1</td>\n",
              "      <td>Supermarket Type1</td>\n",
              "      <td>2037.3480</td>\n",
              "      <td>NCJ</td>\n",
              "    </tr>\n",
              "    <tr>\n",
              "      <th>7203</th>\n",
              "      <td>FDF04</td>\n",
              "      <td>17.500</td>\n",
              "      <td>Low Fat</td>\n",
              "      <td>0.013693</td>\n",
              "      <td>Frozen Foods</td>\n",
              "      <td>259.7304</td>\n",
              "      <td>OUT018</td>\n",
              "      <td>2009</td>\n",
              "      <td>Medium</td>\n",
              "      <td>Tier 3</td>\n",
              "      <td>Supermarket Type2</td>\n",
              "      <td>3616.6256</td>\n",
              "      <td>FDF</td>\n",
              "    </tr>\n",
              "    <tr>\n",
              "      <th>7310</th>\n",
              "      <td>NCJ30</td>\n",
              "      <td>5.820</td>\n",
              "      <td>Low Fat</td>\n",
              "      <td>0.080250</td>\n",
              "      <td>Household</td>\n",
              "      <td>168.6790</td>\n",
              "      <td>OUT027</td>\n",
              "      <td>1985</td>\n",
              "      <td>Medium</td>\n",
              "      <td>Tier 3</td>\n",
              "      <td>Supermarket Type3</td>\n",
              "      <td>4923.5910</td>\n",
              "      <td>NCJ</td>\n",
              "    </tr>\n",
              "    <tr>\n",
              "      <th>7434</th>\n",
              "      <td>DRN47</td>\n",
              "      <td>12.100</td>\n",
              "      <td>Low Fat</td>\n",
              "      <td>0.016827</td>\n",
              "      <td>Hard Drinks</td>\n",
              "      <td>179.1660</td>\n",
              "      <td>OUT046</td>\n",
              "      <td>1997</td>\n",
              "      <td>Small</td>\n",
              "      <td>Tier 1</td>\n",
              "      <td>Supermarket Type1</td>\n",
              "      <td>3056.0220</td>\n",
              "      <td>DRN</td>\n",
              "    </tr>\n",
              "    <tr>\n",
              "      <th>7793</th>\n",
              "      <td>FDF04</td>\n",
              "      <td>17.500</td>\n",
              "      <td>Low Fat</td>\n",
              "      <td>0.023877</td>\n",
              "      <td>Frozen Foods</td>\n",
              "      <td>258.6304</td>\n",
              "      <td>OUT019</td>\n",
              "      <td>1985</td>\n",
              "      <td>Small</td>\n",
              "      <td>Tier 1</td>\n",
              "      <td>Grocery Store</td>\n",
              "      <td>516.6608</td>\n",
              "      <td>FDF</td>\n",
              "    </tr>\n",
              "    <tr>\n",
              "      <th>7852</th>\n",
              "      <td>FDY57</td>\n",
              "      <td>20.200</td>\n",
              "      <td>Regular</td>\n",
              "      <td>0.121443</td>\n",
              "      <td>Snack Foods</td>\n",
              "      <td>94.9752</td>\n",
              "      <td>OUT049</td>\n",
              "      <td>1999</td>\n",
              "      <td>Medium</td>\n",
              "      <td>Tier 1</td>\n",
              "      <td>Supermarket Type1</td>\n",
              "      <td>1342.2528</td>\n",
              "      <td>FDY</td>\n",
              "    </tr>\n",
              "    <tr>\n",
              "      <th>7898</th>\n",
              "      <td>FDL58</td>\n",
              "      <td>5.780</td>\n",
              "      <td>Regular</td>\n",
              "      <td>0.124110</td>\n",
              "      <td>Snack Foods</td>\n",
              "      <td>262.3568</td>\n",
              "      <td>OUT010</td>\n",
              "      <td>1998</td>\n",
              "      <td>NaN</td>\n",
              "      <td>Tier 3</td>\n",
              "      <td>Grocery Store</td>\n",
              "      <td>790.9704</td>\n",
              "      <td>FDL</td>\n",
              "    </tr>\n",
              "    <tr>\n",
              "      <th>7906</th>\n",
              "      <td>FDF22</td>\n",
              "      <td>6.865</td>\n",
              "      <td>Low Fat</td>\n",
              "      <td>0.095123</td>\n",
              "      <td>Snack Foods</td>\n",
              "      <td>212.3218</td>\n",
              "      <td>OUT010</td>\n",
              "      <td>1998</td>\n",
              "      <td>NaN</td>\n",
              "      <td>Tier 3</td>\n",
              "      <td>Grocery Store</td>\n",
              "      <td>427.4436</td>\n",
              "      <td>FDF</td>\n",
              "    </tr>\n",
              "    <tr>\n",
              "      <th>7913</th>\n",
              "      <td>FDG09</td>\n",
              "      <td>20.600</td>\n",
              "      <td>Regular</td>\n",
              "      <td>0.048132</td>\n",
              "      <td>Fruits and Vegetables</td>\n",
              "      <td>187.1556</td>\n",
              "      <td>OUT018</td>\n",
              "      <td>2009</td>\n",
              "      <td>Medium</td>\n",
              "      <td>Tier 3</td>\n",
              "      <td>Supermarket Type2</td>\n",
              "      <td>4693.8900</td>\n",
              "      <td>FDG</td>\n",
              "    </tr>\n",
              "    <tr>\n",
              "      <th>8001</th>\n",
              "      <td>FDT21</td>\n",
              "      <td>7.420</td>\n",
              "      <td>Low Fat</td>\n",
              "      <td>0.020388</td>\n",
              "      <td>Snack Foods</td>\n",
              "      <td>247.1092</td>\n",
              "      <td>OUT035</td>\n",
              "      <td>2004</td>\n",
              "      <td>Small</td>\n",
              "      <td>Tier 2</td>\n",
              "      <td>Supermarket Type1</td>\n",
              "      <td>4233.1564</td>\n",
              "      <td>FDT</td>\n",
              "    </tr>\n",
              "    <tr>\n",
              "      <th>8044</th>\n",
              "      <td>FDF22</td>\n",
              "      <td>6.865</td>\n",
              "      <td>Low Fat</td>\n",
              "      <td>0.057062</td>\n",
              "      <td>Snack Foods</td>\n",
              "      <td>212.0218</td>\n",
              "      <td>OUT018</td>\n",
              "      <td>2009</td>\n",
              "      <td>Medium</td>\n",
              "      <td>Tier 3</td>\n",
              "      <td>Supermarket Type2</td>\n",
              "      <td>2350.9398</td>\n",
              "      <td>FDF</td>\n",
              "    </tr>\n",
              "    <tr>\n",
              "      <th>8062</th>\n",
              "      <td>FDH58</td>\n",
              "      <td>12.300</td>\n",
              "      <td>Low Fat</td>\n",
              "      <td>0.036997</td>\n",
              "      <td>Snack Foods</td>\n",
              "      <td>115.9834</td>\n",
              "      <td>OUT049</td>\n",
              "      <td>1999</td>\n",
              "      <td>Medium</td>\n",
              "      <td>Tier 1</td>\n",
              "      <td>Supermarket Type1</td>\n",
              "      <td>2073.3012</td>\n",
              "      <td>FDH</td>\n",
              "    </tr>\n",
              "    <tr>\n",
              "      <th>8087</th>\n",
              "      <td>FDF04</td>\n",
              "      <td>17.500</td>\n",
              "      <td>Low Fat</td>\n",
              "      <td>0.013637</td>\n",
              "      <td>Frozen Foods</td>\n",
              "      <td>258.5304</td>\n",
              "      <td>OUT046</td>\n",
              "      <td>1997</td>\n",
              "      <td>Small</td>\n",
              "      <td>Tier 1</td>\n",
              "      <td>Supermarket Type1</td>\n",
              "      <td>6199.9296</td>\n",
              "      <td>FDF</td>\n",
              "    </tr>\n",
              "    <tr>\n",
              "      <th>8100</th>\n",
              "      <td>DRN47</td>\n",
              "      <td>12.100</td>\n",
              "      <td>Low Fat</td>\n",
              "      <td>0.016824</td>\n",
              "      <td>Hard Drinks</td>\n",
              "      <td>178.5660</td>\n",
              "      <td>OUT035</td>\n",
              "      <td>2004</td>\n",
              "      <td>Small</td>\n",
              "      <td>Tier 2</td>\n",
              "      <td>Supermarket Type1</td>\n",
              "      <td>3775.0860</td>\n",
              "      <td>DRN</td>\n",
              "    </tr>\n",
              "    <tr>\n",
              "      <th>8163</th>\n",
              "      <td>FDG09</td>\n",
              "      <td>20.600</td>\n",
              "      <td>Regular</td>\n",
              "      <td>0.047704</td>\n",
              "      <td>Fruits and Vegetables</td>\n",
              "      <td>187.2556</td>\n",
              "      <td>OUT027</td>\n",
              "      <td>1985</td>\n",
              "      <td>Medium</td>\n",
              "      <td>Tier 3</td>\n",
              "      <td>Supermarket Type3</td>\n",
              "      <td>4506.1344</td>\n",
              "      <td>FDG</td>\n",
              "    </tr>\n",
              "    <tr>\n",
              "      <th>8166</th>\n",
              "      <td>FDJ09</td>\n",
              "      <td>15.000</td>\n",
              "      <td>Low Fat</td>\n",
              "      <td>0.058513</td>\n",
              "      <td>Snack Foods</td>\n",
              "      <td>46.9744</td>\n",
              "      <td>OUT045</td>\n",
              "      <td>2002</td>\n",
              "      <td>NaN</td>\n",
              "      <td>Tier 2</td>\n",
              "      <td>Supermarket Type1</td>\n",
              "      <td>679.1160</td>\n",
              "      <td>FDJ</td>\n",
              "    </tr>\n",
              "    <tr>\n",
              "      <th>8323</th>\n",
              "      <td>FDH58</td>\n",
              "      <td>12.300</td>\n",
              "      <td>Low Fat</td>\n",
              "      <td>0.000000</td>\n",
              "      <td>Snack Foods</td>\n",
              "      <td>116.4834</td>\n",
              "      <td>OUT018</td>\n",
              "      <td>2009</td>\n",
              "      <td>Medium</td>\n",
              "      <td>Tier 3</td>\n",
              "      <td>Supermarket Type2</td>\n",
              "      <td>1842.9344</td>\n",
              "      <td>FDH</td>\n",
              "    </tr>\n",
              "    <tr>\n",
              "      <th>8342</th>\n",
              "      <td>FDF04</td>\n",
              "      <td>17.500</td>\n",
              "      <td>Low Fat</td>\n",
              "      <td>0.013714</td>\n",
              "      <td>Frozen Foods</td>\n",
              "      <td>259.2304</td>\n",
              "      <td>OUT017</td>\n",
              "      <td>2007</td>\n",
              "      <td>NaN</td>\n",
              "      <td>Tier 2</td>\n",
              "      <td>Supermarket Type1</td>\n",
              "      <td>2841.6344</td>\n",
              "      <td>FDF</td>\n",
              "    </tr>\n",
              "    <tr>\n",
              "      <th>8511</th>\n",
              "      <td>FDF05</td>\n",
              "      <td>17.500</td>\n",
              "      <td>Low Fat</td>\n",
              "      <td>0.026980</td>\n",
              "      <td>Frozen Foods</td>\n",
              "      <td>262.5910</td>\n",
              "      <td>OUT018</td>\n",
              "      <td>2009</td>\n",
              "      <td>Medium</td>\n",
              "      <td>Tier 3</td>\n",
              "      <td>Supermarket Type2</td>\n",
              "      <td>4207.8560</td>\n",
              "      <td>FDF</td>\n",
              "    </tr>\n",
              "    <tr>\n",
              "      <th>8518</th>\n",
              "      <td>FDF22</td>\n",
              "      <td>6.865</td>\n",
              "      <td>Low Fat</td>\n",
              "      <td>0.056783</td>\n",
              "      <td>Snack Foods</td>\n",
              "      <td>214.5218</td>\n",
              "      <td>OUT013</td>\n",
              "      <td>1987</td>\n",
              "      <td>High</td>\n",
              "      <td>Tier 3</td>\n",
              "      <td>Supermarket Type1</td>\n",
              "      <td>2778.3834</td>\n",
              "      <td>FDF</td>\n",
              "    </tr>\n",
              "  </tbody>\n",
              "</table>\n",
              "<p>124 rows × 13 columns</p>\n",
              "</div>"
            ],
            "text/plain": [
              "     Item_Identifier  Item_Weight Item_Fat_Content  Item_Visibility  \\\n",
              "191            FDL58        5.780          Regular         0.074264   \n",
              "212            FDL58        5.780          Regular         0.000000   \n",
              "217            FDP28       13.650          Regular         0.134976   \n",
              "249            FDF05       17.500          Low Fat         0.027023   \n",
              "360            DRN47       12.100          Low Fat         0.016895   \n",
              "406            FDF22        6.865          Low Fat         0.056919   \n",
              "566            FDL58        5.780          Regular         0.074299   \n",
              "570            FDO22       13.500          Regular         0.017960   \n",
              "594            NCJ30        5.820          Low Fat         0.080640   \n",
              "688            FDG09       20.600          Regular         0.047927   \n",
              "746            DRN47       12.100          Low Fat         0.028165   \n",
              "786            FDH58       12.300          Low Fat         0.037015   \n",
              "806            NCJ30        5.820          Low Fat         0.080969   \n",
              "845            FDT21        7.420          Low Fat         0.020475   \n",
              "974            FDG57       14.700          Low Fat         0.072411   \n",
              "1019           FDP28       13.650          Regular         0.081097   \n",
              "1021           FDI45       13.100          Low Fat         0.037550   \n",
              "1049           FDF04       17.500          Low Fat         0.013634   \n",
              "1098           FDF05       17.500          Low Fat         0.026925   \n",
              "1116           NCJ30        5.820          Low Fat         0.081097   \n",
              "1233           FDO22       13.500          Regular         0.029893   \n",
              "1277           FDG57       14.700          Low Fat         0.072298   \n",
              "1326           FDF04       17.500          Low Fat         0.000000   \n",
              "1480           NCJ30        5.820          Low Fat         0.080625   \n",
              "1487           FDT21        7.420          Low Fat         0.020392   \n",
              "1762           DRN47       12.100          Low Fat         0.016853   \n",
              "1803           FDI45       13.100          Low Fat         0.037574   \n",
              "1813           FDF05       17.500          Low Fat         0.026871   \n",
              "1834           FDP28       13.650          Regular         0.080640   \n",
              "1852           FDG57       14.700          Low Fat         0.072593   \n",
              "...              ...          ...              ...              ...   \n",
              "5989           NCJ30        5.820          Low Fat         0.080804   \n",
              "6151           FDO22       13.500          Regular         0.017932   \n",
              "6380           FDG09       20.600          Regular         0.048033   \n",
              "6638           FDG50        7.405          Low Fat         0.015296   \n",
              "6844           FDG09       20.600          Regular         0.047896   \n",
              "6900           DRN47       12.100          Low Fat         0.016922   \n",
              "6901           FDT21        7.420          Low Fat         0.020424   \n",
              "6993           FDT21        7.420          Low Fat         0.020507   \n",
              "7082           FDI45       13.100          Low Fat         0.037794   \n",
              "7149           FDT21        7.420          Low Fat         0.000000   \n",
              "7176           NCJ30        5.820          Low Fat         0.080766   \n",
              "7203           FDF04       17.500          Low Fat         0.013693   \n",
              "7310           NCJ30        5.820          Low Fat         0.080250   \n",
              "7434           DRN47       12.100          Low Fat         0.016827   \n",
              "7793           FDF04       17.500          Low Fat         0.023877   \n",
              "7852           FDY57       20.200          Regular         0.121443   \n",
              "7898           FDL58        5.780          Regular         0.124110   \n",
              "7906           FDF22        6.865          Low Fat         0.095123   \n",
              "7913           FDG09       20.600          Regular         0.048132   \n",
              "8001           FDT21        7.420          Low Fat         0.020388   \n",
              "8044           FDF22        6.865          Low Fat         0.057062   \n",
              "8062           FDH58       12.300          Low Fat         0.036997   \n",
              "8087           FDF04       17.500          Low Fat         0.013637   \n",
              "8100           DRN47       12.100          Low Fat         0.016824   \n",
              "8163           FDG09       20.600          Regular         0.047704   \n",
              "8166           FDJ09       15.000          Low Fat         0.058513   \n",
              "8323           FDH58       12.300          Low Fat         0.000000   \n",
              "8342           FDF04       17.500          Low Fat         0.013714   \n",
              "8511           FDF05       17.500          Low Fat         0.026980   \n",
              "8518           FDF22        6.865          Low Fat         0.056783   \n",
              "\n",
              "                  Item_Type  Item_MRP Outlet_Identifier  \\\n",
              "191             Snack Foods  264.7568            OUT049   \n",
              "212             Snack Foods  263.7568            OUT017   \n",
              "217            Frozen Foods  260.0936            OUT010   \n",
              "249            Frozen Foods  262.4910            OUT017   \n",
              "360             Hard Drinks  178.5660            OUT018   \n",
              "406             Snack Foods  212.8218            OUT049   \n",
              "566             Snack Foods  264.9568            OUT045   \n",
              "570             Snack Foods   81.5960            OUT017   \n",
              "594               Household  167.7790            OUT046   \n",
              "688   Fruits and Vegetables  185.9556            OUT035   \n",
              "746             Hard Drinks  178.1660            OUT010   \n",
              "786             Snack Foods  115.1834            OUT045   \n",
              "806               Household  171.3790            OUT018   \n",
              "845             Snack Foods  248.4092            OUT018   \n",
              "974   Fruits and Vegetables   48.2034            OUT049   \n",
              "1019           Frozen Foods  261.2936            OUT017   \n",
              "1021  Fruits and Vegetables  176.1054            OUT013   \n",
              "1049           Frozen Foods  256.4304            OUT035   \n",
              "1098           Frozen Foods  264.3910            OUT045   \n",
              "1116              Household  170.3790            OUT017   \n",
              "1233            Snack Foods   81.0960            OUT010   \n",
              "1277  Fruits and Vegetables   48.2034            OUT046   \n",
              "1326           Frozen Foods  258.3304            OUT013   \n",
              "1480              Household  168.3790            OUT035   \n",
              "1487            Snack Foods  248.9092            OUT046   \n",
              "1762            Hard Drinks  180.6660            OUT049   \n",
              "1803  Fruits and Vegetables  174.2054            OUT035   \n",
              "1813           Frozen Foods  264.4910            OUT046   \n",
              "1834           Frozen Foods  262.6936            OUT046   \n",
              "1852  Fruits and Vegetables   48.5034            OUT018   \n",
              "...                     ...       ...               ...   \n",
              "5989              Household  171.4790            OUT045   \n",
              "6151            Snack Foods   78.7960            OUT018   \n",
              "6380  Fruits and Vegetables  188.2556            OUT045   \n",
              "6638                 Canned   89.7146            OUT049   \n",
              "6844  Fruits and Vegetables  185.8556            OUT013   \n",
              "6900            Hard Drinks  178.3660            OUT017   \n",
              "6901            Snack Foods  249.0092            OUT049   \n",
              "6993            Snack Foods  249.7092            OUT017   \n",
              "7082  Fruits and Vegetables  173.8054            OUT017   \n",
              "7149            Snack Foods  248.8092            OUT027   \n",
              "7176              Household  169.1790            OUT049   \n",
              "7203           Frozen Foods  259.7304            OUT018   \n",
              "7310              Household  168.6790            OUT027   \n",
              "7434            Hard Drinks  179.1660            OUT046   \n",
              "7793           Frozen Foods  258.6304            OUT019   \n",
              "7852            Snack Foods   94.9752            OUT049   \n",
              "7898            Snack Foods  262.3568            OUT010   \n",
              "7906            Snack Foods  212.3218            OUT010   \n",
              "7913  Fruits and Vegetables  187.1556            OUT018   \n",
              "8001            Snack Foods  247.1092            OUT035   \n",
              "8044            Snack Foods  212.0218            OUT018   \n",
              "8062            Snack Foods  115.9834            OUT049   \n",
              "8087           Frozen Foods  258.5304            OUT046   \n",
              "8100            Hard Drinks  178.5660            OUT035   \n",
              "8163  Fruits and Vegetables  187.2556            OUT027   \n",
              "8166            Snack Foods   46.9744            OUT045   \n",
              "8323            Snack Foods  116.4834            OUT018   \n",
              "8342           Frozen Foods  259.2304            OUT017   \n",
              "8511           Frozen Foods  262.5910            OUT018   \n",
              "8518            Snack Foods  214.5218            OUT013   \n",
              "\n",
              "      Outlet_Establishment_Year Outlet_Size Outlet_Location_Type  \\\n",
              "191                        1999      Medium               Tier 1   \n",
              "212                        2007         NaN               Tier 2   \n",
              "217                        1998         NaN               Tier 3   \n",
              "249                        2007         NaN               Tier 2   \n",
              "360                        2009      Medium               Tier 3   \n",
              "406                        1999      Medium               Tier 1   \n",
              "566                        2002         NaN               Tier 2   \n",
              "570                        2007         NaN               Tier 2   \n",
              "594                        1997       Small               Tier 1   \n",
              "688                        2004       Small               Tier 2   \n",
              "746                        1998         NaN               Tier 3   \n",
              "786                        2002         NaN               Tier 2   \n",
              "806                        2009      Medium               Tier 3   \n",
              "845                        2009      Medium               Tier 3   \n",
              "974                        1999      Medium               Tier 1   \n",
              "1019                       2007         NaN               Tier 2   \n",
              "1021                       1987        High               Tier 3   \n",
              "1049                       2004       Small               Tier 2   \n",
              "1098                       2002         NaN               Tier 2   \n",
              "1116                       2007         NaN               Tier 2   \n",
              "1233                       1998         NaN               Tier 3   \n",
              "1277                       1997       Small               Tier 1   \n",
              "1326                       1987        High               Tier 3   \n",
              "1480                       2004       Small               Tier 2   \n",
              "1487                       1997       Small               Tier 1   \n",
              "1762                       1999      Medium               Tier 1   \n",
              "1803                       2004       Small               Tier 2   \n",
              "1813                       1997       Small               Tier 1   \n",
              "1834                       1997       Small               Tier 1   \n",
              "1852                       2009      Medium               Tier 3   \n",
              "...                         ...         ...                  ...   \n",
              "5989                       2002         NaN               Tier 2   \n",
              "6151                       2009      Medium               Tier 3   \n",
              "6380                       2002         NaN               Tier 2   \n",
              "6638                       1999      Medium               Tier 1   \n",
              "6844                       1987        High               Tier 3   \n",
              "6900                       2007         NaN               Tier 2   \n",
              "6901                       1999      Medium               Tier 1   \n",
              "6993                       2007         NaN               Tier 2   \n",
              "7082                       2007         NaN               Tier 2   \n",
              "7149                       1985      Medium               Tier 3   \n",
              "7176                       1999      Medium               Tier 1   \n",
              "7203                       2009      Medium               Tier 3   \n",
              "7310                       1985      Medium               Tier 3   \n",
              "7434                       1997       Small               Tier 1   \n",
              "7793                       1985       Small               Tier 1   \n",
              "7852                       1999      Medium               Tier 1   \n",
              "7898                       1998         NaN               Tier 3   \n",
              "7906                       1998         NaN               Tier 3   \n",
              "7913                       2009      Medium               Tier 3   \n",
              "8001                       2004       Small               Tier 2   \n",
              "8044                       2009      Medium               Tier 3   \n",
              "8062                       1999      Medium               Tier 1   \n",
              "8087                       1997       Small               Tier 1   \n",
              "8100                       2004       Small               Tier 2   \n",
              "8163                       1985      Medium               Tier 3   \n",
              "8166                       2002         NaN               Tier 2   \n",
              "8323                       2009      Medium               Tier 3   \n",
              "8342                       2007         NaN               Tier 2   \n",
              "8511                       2009      Medium               Tier 3   \n",
              "8518                       1987        High               Tier 3   \n",
              "\n",
              "            Outlet_Type  Item_Outlet_Sales Item_identifierCode3  \n",
              "191   Supermarket Type1          4745.8224                  FDL  \n",
              "212   Supermarket Type1          2636.5680                  FDL  \n",
              "217       Grocery Store           260.9936                  FDP  \n",
              "249   Supermarket Type1          5259.8200                  FDF  \n",
              "360   Supermarket Type2           898.8300                  DRN  \n",
              "406   Supermarket Type1          5770.4886                  FDF  \n",
              "566   Supermarket Type1          1845.5976                  FDL  \n",
              "570   Supermarket Type1           639.1680                  FDO  \n",
              "594   Supermarket Type1          2886.2430                  NCJ  \n",
              "688   Supermarket Type1          4318.3788                  FDG  \n",
              "746       Grocery Store           539.2980                  DRN  \n",
              "786   Supermarket Type1          1958.1178                  FDH  \n",
              "806   Supermarket Type2          2037.3480                  NCJ  \n",
              "845   Supermarket Type2           996.0368                  FDT  \n",
              "974   Supermarket Type1          1020.6714                  FDG  \n",
              "1019  Supermarket Type1          3131.9232                  FDP  \n",
              "1021  Supermarket Type1          4027.4242                  FDI  \n",
              "1049  Supermarket Type1          1808.3128                  FDF  \n",
              "1098  Supermarket Type1          5259.8200                  FDF  \n",
              "1116  Supermarket Type1          1018.6740                  NCJ  \n",
              "1233      Grocery Store           159.7920                  FDO  \n",
              "1277  Supermarket Type1           874.8612                  FDG  \n",
              "1326  Supermarket Type1          3358.2952                  FDF  \n",
              "1480  Supermarket Type1          1188.4530                  NCJ  \n",
              "1487  Supermarket Type1          2241.0828                  FDT  \n",
              "1762  Supermarket Type1          2876.2560                  DRN  \n",
              "1803  Supermarket Type1          3677.2134                  FDI  \n",
              "1813  Supermarket Type1          3681.8740                  FDF  \n",
              "1834  Supermarket Type1          4175.8976                  FDP  \n",
              "1852  Supermarket Type2           874.8612                  FDG  \n",
              "...                 ...                ...                  ...  \n",
              "5989  Supermarket Type1          4074.6960                  NCJ  \n",
              "6151  Supermarket Type2           239.6880                  FDO  \n",
              "6380  Supermarket Type1          3755.1120                  FDG  \n",
              "6638  Supermarket Type1           547.2876                  FDG  \n",
              "6844  Supermarket Type1          1689.8004                  FDG  \n",
              "6900  Supermarket Type1          4314.3840                  DRN  \n",
              "6901  Supermarket Type1          2988.1104                  FDT  \n",
              "6993  Supermarket Type1          7719.2852                  FDT  \n",
              "7082  Supermarket Type1          2801.6864                  FDI  \n",
              "7149  Supermarket Type3          6474.2392                  FDT  \n",
              "7176  Supermarket Type1          2037.3480                  NCJ  \n",
              "7203  Supermarket Type2          3616.6256                  FDF  \n",
              "7310  Supermarket Type3          4923.5910                  NCJ  \n",
              "7434  Supermarket Type1          3056.0220                  DRN  \n",
              "7793      Grocery Store           516.6608                  FDF  \n",
              "7852  Supermarket Type1          1342.2528                  FDY  \n",
              "7898      Grocery Store           790.9704                  FDL  \n",
              "7906      Grocery Store           427.4436                  FDF  \n",
              "7913  Supermarket Type2          4693.8900                  FDG  \n",
              "8001  Supermarket Type1          4233.1564                  FDT  \n",
              "8044  Supermarket Type2          2350.9398                  FDF  \n",
              "8062  Supermarket Type1          2073.3012                  FDH  \n",
              "8087  Supermarket Type1          6199.9296                  FDF  \n",
              "8100  Supermarket Type1          3775.0860                  DRN  \n",
              "8163  Supermarket Type3          4506.1344                  FDG  \n",
              "8166  Supermarket Type1           679.1160                  FDJ  \n",
              "8323  Supermarket Type2          1842.9344                  FDH  \n",
              "8342  Supermarket Type1          2841.6344                  FDF  \n",
              "8511  Supermarket Type2          4207.8560                  FDF  \n",
              "8518  Supermarket Type1          2778.3834                  FDF  \n",
              "\n",
              "[124 rows x 13 columns]"
            ]
          },
          "metadata": {
            "tags": []
          },
          "execution_count": 288
        }
      ]
    },
    {
      "metadata": {
        "id": "CMxpIUF0Kc21",
        "colab_type": "code",
        "colab": {
          "base_uri": "https://localhost:8080/",
          "height": 34
        },
        "outputId": "0459f542-fee9-4e98-a4d8-8df302c1a639"
      },
      "cell_type": "code",
      "source": [
        "len(df_train['Item_identifierCode3'].value_counts())"
      ],
      "execution_count": 25,
      "outputs": [
        {
          "output_type": "execute_result",
          "data": {
            "text/plain": [
              "71"
            ]
          },
          "metadata": {
            "tags": []
          },
          "execution_count": 25
        }
      ]
    },
    {
      "metadata": {
        "id": "PKT8p3p_vep9",
        "colab_type": "text"
      },
      "cell_type": "markdown",
      "source": [
        "#Model Train\n",
        "\n"
      ]
    },
    {
      "metadata": {
        "id": "7ty-Mo-gwGz9",
        "colab_type": "text"
      },
      "cell_type": "markdown",
      "source": [
        "## Model"
      ]
    },
    {
      "metadata": {
        "id": "qPMsBOz5wNfn",
        "colab_type": "code",
        "colab": {}
      },
      "cell_type": "code",
      "source": [
        "dep_var = 'Item_Outlet_Sales'\n",
        "cat_names = ['Item_Fat_Content','Item_Type','Outlet_Identifier','Outlet_Establishment_Year', 'Outlet_Size',\n",
        "       'Outlet_Location_Type','Outlet_Type']\n",
        "cont_names = ['Item_Weight', 'Item_Visibility', 'Item_MRP']\n",
        "procs = [FillMissing, Categorify, Normalize]"
      ],
      "execution_count": 0,
      "outputs": []
    },
    {
      "metadata": {
        "id": "bcsAlmaV6kV6",
        "colab_type": "code",
        "colab": {}
      },
      "cell_type": "code",
      "source": [
        "df_test_cp=df_test.copy()"
      ],
      "execution_count": 0,
      "outputs": []
    },
    {
      "metadata": {
        "id": "ZzXec-At6ri6",
        "colab_type": "code",
        "colab": {}
      },
      "cell_type": "code",
      "source": [
        "df_test_cp['Item_Outlet_Sales']=0"
      ],
      "execution_count": 0,
      "outputs": []
    },
    {
      "metadata": {
        "id": "YUQbcypN623h",
        "colab_type": "code",
        "outputId": "2b3761a1-df0e-427c-e26f-ca692e00f25e",
        "colab": {
          "base_uri": "https://localhost:8080/",
          "height": 301
        }
      },
      "cell_type": "code",
      "source": [
        "df_test.head()"
      ],
      "execution_count": 0,
      "outputs": [
        {
          "output_type": "execute_result",
          "data": {
            "text/html": [
              "<div>\n",
              "<style scoped>\n",
              "    .dataframe tbody tr th:only-of-type {\n",
              "        vertical-align: middle;\n",
              "    }\n",
              "\n",
              "    .dataframe tbody tr th {\n",
              "        vertical-align: top;\n",
              "    }\n",
              "\n",
              "    .dataframe thead th {\n",
              "        text-align: right;\n",
              "    }\n",
              "</style>\n",
              "<table border=\"1\" class=\"dataframe\">\n",
              "  <thead>\n",
              "    <tr style=\"text-align: right;\">\n",
              "      <th></th>\n",
              "      <th>Item_Identifier</th>\n",
              "      <th>Item_Weight</th>\n",
              "      <th>Item_Fat_Content</th>\n",
              "      <th>Item_Visibility</th>\n",
              "      <th>Item_Type</th>\n",
              "      <th>Item_MRP</th>\n",
              "      <th>Outlet_Identifier</th>\n",
              "      <th>Outlet_Establishment_Year</th>\n",
              "      <th>Outlet_Size</th>\n",
              "      <th>Outlet_Location_Type</th>\n",
              "      <th>Outlet_Type</th>\n",
              "      <th>Item_identifierCode3</th>\n",
              "    </tr>\n",
              "  </thead>\n",
              "  <tbody>\n",
              "    <tr>\n",
              "      <th>0</th>\n",
              "      <td>FDW58</td>\n",
              "      <td>20.750</td>\n",
              "      <td>Low Fat</td>\n",
              "      <td>0.007565</td>\n",
              "      <td>Snack Foods</td>\n",
              "      <td>107.8622</td>\n",
              "      <td>OUT049</td>\n",
              "      <td>1999</td>\n",
              "      <td>Medium</td>\n",
              "      <td>Tier 1</td>\n",
              "      <td>Supermarket Type1</td>\n",
              "      <td>FDW</td>\n",
              "    </tr>\n",
              "    <tr>\n",
              "      <th>1</th>\n",
              "      <td>FDW14</td>\n",
              "      <td>8.300</td>\n",
              "      <td>Regular</td>\n",
              "      <td>0.038428</td>\n",
              "      <td>Dairy</td>\n",
              "      <td>87.3198</td>\n",
              "      <td>OUT017</td>\n",
              "      <td>2007</td>\n",
              "      <td>NaN</td>\n",
              "      <td>Tier 2</td>\n",
              "      <td>Supermarket Type1</td>\n",
              "      <td>FDW</td>\n",
              "    </tr>\n",
              "    <tr>\n",
              "      <th>2</th>\n",
              "      <td>NCN55</td>\n",
              "      <td>14.600</td>\n",
              "      <td>Low Fat</td>\n",
              "      <td>0.099575</td>\n",
              "      <td>Others</td>\n",
              "      <td>241.7538</td>\n",
              "      <td>OUT010</td>\n",
              "      <td>1998</td>\n",
              "      <td>NaN</td>\n",
              "      <td>Tier 3</td>\n",
              "      <td>Grocery Store</td>\n",
              "      <td>NCN</td>\n",
              "    </tr>\n",
              "    <tr>\n",
              "      <th>3</th>\n",
              "      <td>FDQ58</td>\n",
              "      <td>7.315</td>\n",
              "      <td>Low Fat</td>\n",
              "      <td>0.015388</td>\n",
              "      <td>Snack Foods</td>\n",
              "      <td>155.0340</td>\n",
              "      <td>OUT017</td>\n",
              "      <td>2007</td>\n",
              "      <td>NaN</td>\n",
              "      <td>Tier 2</td>\n",
              "      <td>Supermarket Type1</td>\n",
              "      <td>FDQ</td>\n",
              "    </tr>\n",
              "    <tr>\n",
              "      <th>4</th>\n",
              "      <td>FDY38</td>\n",
              "      <td>13.600</td>\n",
              "      <td>Regular</td>\n",
              "      <td>0.118599</td>\n",
              "      <td>Dairy</td>\n",
              "      <td>234.2300</td>\n",
              "      <td>OUT027</td>\n",
              "      <td>1985</td>\n",
              "      <td>Medium</td>\n",
              "      <td>Tier 3</td>\n",
              "      <td>Supermarket Type3</td>\n",
              "      <td>FDY</td>\n",
              "    </tr>\n",
              "  </tbody>\n",
              "</table>\n",
              "</div>"
            ],
            "text/plain": [
              "  Item_Identifier  Item_Weight Item_Fat_Content  Item_Visibility    Item_Type  \\\n",
              "0           FDW58       20.750          Low Fat         0.007565  Snack Foods   \n",
              "1           FDW14        8.300          Regular         0.038428        Dairy   \n",
              "2           NCN55       14.600          Low Fat         0.099575       Others   \n",
              "3           FDQ58        7.315          Low Fat         0.015388  Snack Foods   \n",
              "4           FDY38       13.600          Regular         0.118599        Dairy   \n",
              "\n",
              "   Item_MRP Outlet_Identifier  Outlet_Establishment_Year Outlet_Size  \\\n",
              "0  107.8622            OUT049                       1999      Medium   \n",
              "1   87.3198            OUT017                       2007         NaN   \n",
              "2  241.7538            OUT010                       1998         NaN   \n",
              "3  155.0340            OUT017                       2007         NaN   \n",
              "4  234.2300            OUT027                       1985      Medium   \n",
              "\n",
              "  Outlet_Location_Type        Outlet_Type Item_identifierCode3  \n",
              "0               Tier 1  Supermarket Type1                  FDW  \n",
              "1               Tier 2  Supermarket Type1                  FDW  \n",
              "2               Tier 3      Grocery Store                  NCN  \n",
              "3               Tier 2  Supermarket Type1                  FDQ  \n",
              "4               Tier 3  Supermarket Type3                  FDY  "
            ]
          },
          "metadata": {
            "tags": []
          },
          "execution_count": 290
        }
      ]
    },
    {
      "metadata": {
        "id": "kkR9x_2vw09u",
        "colab_type": "code",
        "colab": {}
      },
      "cell_type": "code",
      "source": [
        "test = TabularList.from_df(df_test, path=path, cat_names=cat_names, cont_names=cont_names)\n",
        "data = (TabularList.from_df(df_train.copy(), path=path, cat_names=cat_names, cont_names=cont_names, procs=procs)\n",
        "                           .split_by_idx(list(range(7500,8523)))\n",
        "                           .label_from_df(cols=dep_var)\n",
        "                           .add_test(test)\n",
        "                           .databunch())"
      ],
      "execution_count": 0,
      "outputs": []
    },
    {
      "metadata": {
        "id": "3v34YjJtxQMg",
        "colab_type": "code",
        "colab": {}
      },
      "cell_type": "code",
      "source": [
        "#learn = tabular_learner(data, layers=[900,500], ps=[0.001,0.01,0.1], emb_drop=0.04,metrics=root_mean_squared_error)\n",
        "learn = tabular_learner(data, layers=[900,500,400],metrics=root_mean_squared_error)"
      ],
      "execution_count": 0,
      "outputs": []
    },
    {
      "metadata": {
        "id": "sdPcS1asxUmR",
        "colab_type": "code",
        "outputId": "0544df0c-63b6-4d06-9bb1-4d847bf90520",
        "colab": {
          "base_uri": "https://localhost:8080/",
          "height": 478
        }
      },
      "cell_type": "code",
      "source": [
        "\n",
        "learn.model"
      ],
      "execution_count": 74,
      "outputs": [
        {
          "output_type": "execute_result",
          "data": {
            "text/plain": [
              "TabularModel(\n",
              "  (embeds): ModuleList(\n",
              "    (0): Embedding(3, 3)\n",
              "    (1): Embedding(17, 8)\n",
              "    (2): Embedding(11, 6)\n",
              "    (3): Embedding(10, 6)\n",
              "    (4): Embedding(4, 3)\n",
              "    (5): Embedding(4, 3)\n",
              "    (6): Embedding(5, 4)\n",
              "    (7): Embedding(3, 3)\n",
              "  )\n",
              "  (emb_drop): Dropout(p=0.0)\n",
              "  (bn_cont): BatchNorm1d(3, eps=1e-05, momentum=0.1, affine=True, track_running_stats=True)\n",
              "  (layers): Sequential(\n",
              "    (0): Linear(in_features=39, out_features=900, bias=True)\n",
              "    (1): ReLU(inplace)\n",
              "    (2): BatchNorm1d(900, eps=1e-05, momentum=0.1, affine=True, track_running_stats=True)\n",
              "    (3): Linear(in_features=900, out_features=500, bias=True)\n",
              "    (4): ReLU(inplace)\n",
              "    (5): BatchNorm1d(500, eps=1e-05, momentum=0.1, affine=True, track_running_stats=True)\n",
              "    (6): Linear(in_features=500, out_features=400, bias=True)\n",
              "    (7): ReLU(inplace)\n",
              "    (8): BatchNorm1d(400, eps=1e-05, momentum=0.1, affine=True, track_running_stats=True)\n",
              "    (9): Linear(in_features=400, out_features=1, bias=True)\n",
              "  )\n",
              ")"
            ]
          },
          "metadata": {
            "tags": []
          },
          "execution_count": 74
        }
      ]
    },
    {
      "metadata": {
        "id": "c_V8OT-YxV_L",
        "colab_type": "code",
        "outputId": "f38a0780-955c-4730-9f32-385bddb69609",
        "colab": {
          "base_uri": "https://localhost:8080/",
          "height": 300
        }
      },
      "cell_type": "code",
      "source": [
        "learn.lr_find()\n",
        "learn.recorder.plot()"
      ],
      "execution_count": 94,
      "outputs": [
        {
          "output_type": "display_data",
          "data": {
            "text/html": [
              ""
            ],
            "text/plain": [
              "<IPython.core.display.HTML object>"
            ]
          },
          "metadata": {
            "tags": []
          }
        },
        {
          "output_type": "stream",
          "text": [
            "LR Finder is complete, type {learner_name}.recorder.plot() to see the graph.\n"
          ],
          "name": "stdout"
        },
        {
          "output_type": "display_data",
          "data": {
            "image/png": "[encoded data removed]",
            "text/plain": [
              "<Figure size 432x288 with 1 Axes>"
            ]
          },
          "metadata": {
            "tags": []
          }
        }
      ]
    },
    {
      "metadata": {
        "id": "Lhb3Ia-gxosp",
        "colab_type": "code",
        "outputId": "79bfb447-c226-46e3-a92d-fadc7da77297",
        "colab": {
          "base_uri": "https://localhost:8080/",
          "height": 197
        }
      },
      "cell_type": "code",
      "source": [
        "learn.fit(5,1e-4)"
      ],
      "execution_count": 95,
      "outputs": [
        {
          "output_type": "display_data",
          "data": {
            "text/html": [
              "<table border=\"1\" class=\"dataframe\">\n",
              "  <thead>\n",
              "    <tr style=\"text-align: left;\">\n",
              "      <th>epoch</th>\n",
              "      <th>train_loss</th>\n",
              "      <th>valid_loss</th>\n",
              "      <th>root_mean_squared_error</th>\n",
              "      <th>time</th>\n",
              "    </tr>\n",
              "  </thead>\n",
              "  <tbody>\n",
              "    <tr>\n",
              "      <td>0</td>\n",
              "      <td>1183680.625000</td>\n",
              "      <td>30033070.000000</td>\n",
              "      <td>2339.384766</td>\n",
              "      <td>00:04</td>\n",
              "    </tr>\n",
              "    <tr>\n",
              "      <td>1</td>\n",
              "      <td>1188228.500000</td>\n",
              "      <td>524121276416.000000</td>\n",
              "      <td>182072.328125</td>\n",
              "      <td>00:04</td>\n",
              "    </tr>\n",
              "    <tr>\n",
              "      <td>2</td>\n",
              "      <td>1189332.250000</td>\n",
              "      <td>3937054208.000000</td>\n",
              "      <td>16684.349609</td>\n",
              "      <td>00:04</td>\n",
              "    </tr>\n",
              "    <tr>\n",
              "      <td>3</td>\n",
              "      <td>1188907.250000</td>\n",
              "      <td>1504013440.000000</td>\n",
              "      <td>10690.123047</td>\n",
              "      <td>00:04</td>\n",
              "    </tr>\n",
              "    <tr>\n",
              "      <td>4</td>\n",
              "      <td>1164822.500000</td>\n",
              "      <td>108216840.000000</td>\n",
              "      <td>3581.829102</td>\n",
              "      <td>00:04</td>\n",
              "    </tr>\n",
              "  </tbody>\n",
              "</table>"
            ],
            "text/plain": [
              "<IPython.core.display.HTML object>"
            ]
          },
          "metadata": {
            "tags": []
          }
        }
      ]
    },
    {
      "metadata": {
        "id": "7pq1U-H2zAqr",
        "colab_type": "code",
        "colab": {}
      },
      "cell_type": "code",
      "source": [
        "learn.save('modelA_1758')"
      ],
      "execution_count": 0,
      "outputs": []
    },
    {
      "metadata": {
        "id": "fTqONgZ7xxNm",
        "colab_type": "code",
        "outputId": "3922e8dd-fef7-4a69-dcfd-7185e43605bf",
        "colab": {
          "base_uri": "https://localhost:8080/",
          "height": 197
        }
      },
      "cell_type": "code",
      "source": [
        "learn.fit_one_cycle(5,1e-3)"
      ],
      "execution_count": 93,
      "outputs": [
        {
          "output_type": "display_data",
          "data": {
            "text/html": [
              "<table border=\"1\" class=\"dataframe\">\n",
              "  <thead>\n",
              "    <tr style=\"text-align: left;\">\n",
              "      <th>epoch</th>\n",
              "      <th>train_loss</th>\n",
              "      <th>valid_loss</th>\n",
              "      <th>root_mean_squared_error</th>\n",
              "      <th>time</th>\n",
              "    </tr>\n",
              "  </thead>\n",
              "  <tbody>\n",
              "    <tr>\n",
              "      <td>0</td>\n",
              "      <td>1240062.500000</td>\n",
              "      <td>7490052096.000000</td>\n",
              "      <td>22648.152344</td>\n",
              "      <td>00:04</td>\n",
              "    </tr>\n",
              "    <tr>\n",
              "      <td>1</td>\n",
              "      <td>1207816.750000</td>\n",
              "      <td>2506240000.000000</td>\n",
              "      <td>13511.615234</td>\n",
              "      <td>00:04</td>\n",
              "    </tr>\n",
              "    <tr>\n",
              "      <td>2</td>\n",
              "      <td>1215824.000000</td>\n",
              "      <td>1167646.250000</td>\n",
              "      <td>1074.479980</td>\n",
              "      <td>00:04</td>\n",
              "    </tr>\n",
              "    <tr>\n",
              "      <td>3</td>\n",
              "      <td>1205781.625000</td>\n",
              "      <td>1156757.375000</td>\n",
              "      <td>1068.703003</td>\n",
              "      <td>00:04</td>\n",
              "    </tr>\n",
              "    <tr>\n",
              "      <td>4</td>\n",
              "      <td>1188793.875000</td>\n",
              "      <td>42184644.000000</td>\n",
              "      <td>2595.814453</td>\n",
              "      <td>00:04</td>\n",
              "    </tr>\n",
              "  </tbody>\n",
              "</table>"
            ],
            "text/plain": [
              "<IPython.core.display.HTML object>"
            ]
          },
          "metadata": {
            "tags": []
          }
        }
      ]
    },
    {
      "metadata": {
        "id": "tWFL7QbqM8g9",
        "colab_type": "code",
        "colab": {}
      },
      "cell_type": "code",
      "source": [
        "learn.save('modelA_1066')"
      ],
      "execution_count": 0,
      "outputs": []
    },
    {
      "metadata": {
        "id": "17Ou2Whr81ae",
        "colab_type": "code",
        "outputId": "9eb08c1d-f7e6-4ba8-f95a-3dec8678babb",
        "colab": {
          "base_uri": "https://localhost:8080/",
          "height": 347
        }
      },
      "cell_type": "code",
      "source": [
        "learn.fit_one_cycle(10,5e-8)"
      ],
      "execution_count": 67,
      "outputs": [
        {
          "output_type": "display_data",
          "data": {
            "text/html": [
              "<table border=\"1\" class=\"dataframe\">\n",
              "  <thead>\n",
              "    <tr style=\"text-align: left;\">\n",
              "      <th>epoch</th>\n",
              "      <th>train_loss</th>\n",
              "      <th>valid_loss</th>\n",
              "      <th>root_mean_squared_error</th>\n",
              "      <th>time</th>\n",
              "    </tr>\n",
              "  </thead>\n",
              "  <tbody>\n",
              "    <tr>\n",
              "      <td>0</td>\n",
              "      <td>1232084.875000</td>\n",
              "      <td>1179454.250000</td>\n",
              "      <td>1080.920288</td>\n",
              "      <td>00:04</td>\n",
              "    </tr>\n",
              "    <tr>\n",
              "      <td>1</td>\n",
              "      <td>1288511.000000</td>\n",
              "      <td>1193726.500000</td>\n",
              "      <td>1087.667969</td>\n",
              "      <td>00:04</td>\n",
              "    </tr>\n",
              "    <tr>\n",
              "      <td>2</td>\n",
              "      <td>1268929.375000</td>\n",
              "      <td>1175462.875000</td>\n",
              "      <td>1078.977539</td>\n",
              "      <td>00:04</td>\n",
              "    </tr>\n",
              "    <tr>\n",
              "      <td>3</td>\n",
              "      <td>1238935.750000</td>\n",
              "      <td>1181331.500000</td>\n",
              "      <td>1081.717163</td>\n",
              "      <td>00:04</td>\n",
              "    </tr>\n",
              "    <tr>\n",
              "      <td>4</td>\n",
              "      <td>1211488.125000</td>\n",
              "      <td>1178079.500000</td>\n",
              "      <td>1080.263672</td>\n",
              "      <td>00:04</td>\n",
              "    </tr>\n",
              "    <tr>\n",
              "      <td>5</td>\n",
              "      <td>1239945.125000</td>\n",
              "      <td>1175270.625000</td>\n",
              "      <td>1078.930420</td>\n",
              "      <td>00:04</td>\n",
              "    </tr>\n",
              "    <tr>\n",
              "      <td>6</td>\n",
              "      <td>1250218.125000</td>\n",
              "      <td>1172910.125000</td>\n",
              "      <td>1077.749023</td>\n",
              "      <td>00:04</td>\n",
              "    </tr>\n",
              "    <tr>\n",
              "      <td>7</td>\n",
              "      <td>1247689.625000</td>\n",
              "      <td>1182773.000000</td>\n",
              "      <td>1082.533936</td>\n",
              "      <td>00:04</td>\n",
              "    </tr>\n",
              "    <tr>\n",
              "      <td>8</td>\n",
              "      <td>1253388.000000</td>\n",
              "      <td>1195963.125000</td>\n",
              "      <td>1088.751709</td>\n",
              "      <td>00:04</td>\n",
              "    </tr>\n",
              "    <tr>\n",
              "      <td>9</td>\n",
              "      <td>1190297.625000</td>\n",
              "      <td>1173580.375000</td>\n",
              "      <td>1078.029541</td>\n",
              "      <td>00:04</td>\n",
              "    </tr>\n",
              "  </tbody>\n",
              "</table>"
            ],
            "text/plain": [
              "<IPython.core.display.HTML object>"
            ]
          },
          "metadata": {
            "tags": []
          }
        }
      ]
    },
    {
      "metadata": {
        "id": "Ys4u6DZ9zKZE",
        "colab_type": "code",
        "colab": {}
      },
      "cell_type": "code",
      "source": [
        "learn.save('modelC_1066')"
      ],
      "execution_count": 0,
      "outputs": []
    },
    {
      "metadata": {
        "id": "UaKzT9Rj9LfG",
        "colab_type": "code",
        "colab": {}
      },
      "cell_type": "code",
      "source": [
        "a=learn.get_preds(DatasetType.Test)[0].cpu()"
      ],
      "execution_count": 0,
      "outputs": []
    },
    {
      "metadata": {
        "id": "G3OJYqCgCSQo",
        "colab_type": "code",
        "outputId": "6e6d0933-4eda-4d86-83e2-ef8caf16be9c",
        "colab": {
          "base_uri": "https://localhost:8080/",
          "height": 52
        }
      },
      "cell_type": "code",
      "source": [
        "a[:,0]"
      ],
      "execution_count": 0,
      "outputs": [
        {
          "output_type": "execute_result",
          "data": {
            "text/plain": [
              "tensor([1402.9058, 1313.4417,  493.5687,  ..., 1521.0078, 2922.8735,\n",
              "         977.4575])"
            ]
          },
          "metadata": {
            "tags": []
          },
          "execution_count": 110
        }
      ]
    },
    {
      "metadata": {
        "id": "UbNUkBY5_zcS",
        "colab_type": "code",
        "colab": {}
      },
      "cell_type": "code",
      "source": [
        "result=pd.DataFrame([df_test['Item_Identifier'],df_test['Outlet_Identifier']])"
      ],
      "execution_count": 0,
      "outputs": []
    },
    {
      "metadata": {
        "id": "b1GsDM11AOyL",
        "colab_type": "code",
        "colab": {}
      },
      "cell_type": "code",
      "source": [
        "res=result.head().T"
      ],
      "execution_count": 0,
      "outputs": []
    },
    {
      "metadata": {
        "id": "HWecYF4VAYU-",
        "colab_type": "code",
        "colab": {}
      },
      "cell_type": "code",
      "source": [
        "res['Item_Outlet_Sales']=a[:,0]"
      ],
      "execution_count": 0,
      "outputs": []
    },
    {
      "metadata": {
        "id": "MOKRme0pF49y",
        "colab_type": "code",
        "outputId": "fc21157a-427a-4165-9004-0b2678b0ec04",
        "colab": {
          "base_uri": "https://localhost:8080/",
          "height": 816
        }
      },
      "cell_type": "code",
      "source": [
        "learn.data.test_ds[0:3]"
      ],
      "execution_count": 0,
      "outputs": [
        {
          "output_type": "execute_result",
          "data": {
            "text/plain": [
              "LabelList (3 items)\n",
              "x: TabularList\n",
              "Item_Identifier                          FDW58\n",
              "Item_Weight                            1.87123\n",
              "Item_Fat_Content                       Low Fat\n",
              "Item_Visibility                       -1.13609\n",
              "Item_Type                          Snack Foods\n",
              "Item_MRP                             -0.536877\n",
              "Outlet_Identifier                       OUT049\n",
              "Outlet_Establishment_Year                 1999\n",
              "Outlet_Size                             Medium\n",
              "Outlet_Location_Type                    Tier 1\n",
              "Outlet_Type                  Supermarket Type1\n",
              "Item_Outlet_Sales                            0\n",
              "Item_Weight_na                           False\n",
              "Name: 0, dtype: object,Item_Identifier                          FDW14\n",
              "Item_Weight                           -1.07004\n",
              "Item_Fat_Content                           reg\n",
              "Item_Visibility                      -0.539781\n",
              "Item_Type                                Dairy\n",
              "Item_MRP                             -0.867598\n",
              "Outlet_Identifier                       OUT017\n",
              "Outlet_Establishment_Year                 2007\n",
              "Outlet_Size                                NaN\n",
              "Outlet_Location_Type                    Tier 2\n",
              "Outlet_Type                  Supermarket Type1\n",
              "Item_Outlet_Sales                            0\n",
              "Item_Weight_na                           False\n",
              "Name: 1, dtype: object,Item_Identifier                      NCN55\n",
              "Item_Weight                       0.418317\n",
              "Item_Fat_Content                   Low Fat\n",
              "Item_Visibility                   0.641667\n",
              "Item_Type                           Others\n",
              "Item_MRP                            1.6187\n",
              "Outlet_Identifier                   OUT010\n",
              "Outlet_Establishment_Year             1998\n",
              "Outlet_Size                            NaN\n",
              "Outlet_Location_Type                Tier 3\n",
              "Outlet_Type                  Grocery Store\n",
              "Item_Outlet_Sales                        0\n",
              "Item_Weight_na                       False\n",
              "Name: 2, dtype: object\n",
              "y: EmptyLabelList\n",
              ",,\n",
              "Path: /content/data/BigMark"
            ]
          },
          "metadata": {
            "tags": []
          },
          "execution_count": 125
        }
      ]
    },
    {
      "metadata": {
        "id": "4XECDpCiCgtw",
        "colab_type": "code",
        "colab": {}
      },
      "cell_type": "code",
      "source": [
        "res.to_excel('BigMarket3.xls')"
      ],
      "execution_count": 0,
      "outputs": []
    },
    {
      "metadata": {
        "id": "2p5ddPQwDjs1",
        "colab_type": "code",
        "outputId": "8b5a21f5-42fa-47cb-9b5d-00ab8296271e",
        "colab": {
          "base_uri": "https://localhost:8080/",
          "height": 247
        }
      },
      "cell_type": "code",
      "source": [
        "df_train.loc[6034]"
      ],
      "execution_count": 0,
      "outputs": [
        {
          "output_type": "execute_result",
          "data": {
            "text/plain": [
              "Item_Identifier                          FDJ16\n",
              "Item_Weight                              9.195\n",
              "Item_Fat_Content                       Low Fat\n",
              "Item_Visibility                       0.114886\n",
              "Item_Type                         Frozen Foods\n",
              "Item_MRP                               59.6246\n",
              "Outlet_Identifier                       OUT046\n",
              "Outlet_Establishment_Year                 1997\n",
              "Outlet_Size                              Small\n",
              "Outlet_Location_Type                    Tier 1\n",
              "Outlet_Type                  Supermarket Type1\n",
              "Item_Outlet_Sales                      1100.57\n",
              "Name: 6034, dtype: object"
            ]
          },
          "metadata": {
            "tags": []
          },
          "execution_count": 121
        }
      ]
    },
    {
      "metadata": {
        "id": "SNz39P06Be31",
        "colab_type": "code",
        "outputId": "b44f3265-175c-4f62-e980-0ecd46b68eb0",
        "colab": {
          "base_uri": "https://localhost:8080/",
          "height": 34
        }
      },
      "cell_type": "code",
      "source": [
        "learn.get_preds(DatasetType.Test)[0].cpu"
      ],
      "execution_count": 0,
      "outputs": [
        {
          "output_type": "execute_result",
          "data": {
            "text/plain": [
              "<function Tensor.cpu>"
            ]
          },
          "metadata": {
            "tags": []
          },
          "execution_count": 94
        }
      ]
    },
    {
      "metadata": {
        "id": "I-Tuz-TW_THm",
        "colab_type": "code",
        "outputId": "948754bd-c059-428a-bac2-2287176c47f6",
        "colab": {
          "base_uri": "https://localhost:8080/",
          "height": 203
        }
      },
      "cell_type": "code",
      "source": [
        "result['Item_Identifier']=df_test['Item_Identifier']\n",
        "result['Outlet_Identifier']=df_test['Outlet_Identifier']\n",
        "result['Item_Outlet_Sales']=learn.get_preds(DatasetType.Test)[0]"
      ],
      "execution_count": 0,
      "outputs": [
        {
          "output_type": "error",
          "ename": "TypeError",
          "evalue": "ignored",
          "traceback": [
            "\u001b[0;31m---------------------------------------------------------------------------\u001b[0m",
            "\u001b[0;31mTypeError\u001b[0m                                 Traceback (most recent call last)",
            "\u001b[0;32m<ipython-input-85-090b89ba098d>\u001b[0m in \u001b[0;36m<module>\u001b[0;34m()\u001b[0m\n\u001b[0;32m----> 1\u001b[0;31m \u001b[0mresult\u001b[0m\u001b[0;34m[\u001b[0m\u001b[0;34m'Item_Identifier'\u001b[0m\u001b[0;34m]\u001b[0m\u001b[0;34m=\u001b[0m\u001b[0mdf_test\u001b[0m\u001b[0;34m[\u001b[0m\u001b[0;34m'Item_Identifier'\u001b[0m\u001b[0;34m]\u001b[0m\u001b[0;34m\u001b[0m\u001b[0;34m\u001b[0m\u001b[0m\n\u001b[0m\u001b[1;32m      2\u001b[0m \u001b[0mresult\u001b[0m\u001b[0;34m[\u001b[0m\u001b[0;34m'Outlet_Identifier'\u001b[0m\u001b[0;34m]\u001b[0m\u001b[0;34m=\u001b[0m\u001b[0mdf_test\u001b[0m\u001b[0;34m[\u001b[0m\u001b[0;34m'Outlet_Identifier'\u001b[0m\u001b[0;34m]\u001b[0m\u001b[0;34m\u001b[0m\u001b[0;34m\u001b[0m\u001b[0m\n\u001b[1;32m      3\u001b[0m \u001b[0mresult\u001b[0m\u001b[0;34m[\u001b[0m\u001b[0;34m'Item_Outlet_Sales'\u001b[0m\u001b[0;34m]\u001b[0m\u001b[0;34m=\u001b[0m\u001b[0mlearn\u001b[0m\u001b[0;34m.\u001b[0m\u001b[0mget_preds\u001b[0m\u001b[0;34m(\u001b[0m\u001b[0mDatasetType\u001b[0m\u001b[0;34m.\u001b[0m\u001b[0mTest\u001b[0m\u001b[0;34m)\u001b[0m\u001b[0;34m[\u001b[0m\u001b[0;36m0\u001b[0m\u001b[0;34m]\u001b[0m\u001b[0;34m\u001b[0m\u001b[0;34m\u001b[0m\u001b[0m\n",
            "\u001b[0;31mTypeError\u001b[0m: 'type' object does not support item assignment"
          ]
        }
      ]
    },
    {
      "metadata": {
        "id": "yxS09KcJz0a8",
        "colab_type": "code",
        "outputId": "1053e71e-c671-4443-d1d7-62177ff944e7",
        "colab": {
          "base_uri": "https://localhost:8080/",
          "height": 167
        }
      },
      "cell_type": "code",
      "source": [
        "doc(learn.pred_batch[1])"
      ],
      "execution_count": 0,
      "outputs": [
        {
          "output_type": "error",
          "ename": "TypeError",
          "evalue": "ignored",
          "traceback": [
            "\u001b[0;31m---------------------------------------------------------------------------\u001b[0m",
            "\u001b[0;31mTypeError\u001b[0m                                 Traceback (most recent call last)",
            "\u001b[0;32m<ipython-input-78-c6e9b80cb7e1>\u001b[0m in \u001b[0;36m<module>\u001b[0;34m()\u001b[0m\n\u001b[0;32m----> 1\u001b[0;31m \u001b[0mdoc\u001b[0m\u001b[0;34m(\u001b[0m\u001b[0mlearn\u001b[0m\u001b[0;34m.\u001b[0m\u001b[0mpred_batch\u001b[0m\u001b[0;34m[\u001b[0m\u001b[0;36m1\u001b[0m\u001b[0;34m]\u001b[0m\u001b[0;34m)\u001b[0m\u001b[0;34m\u001b[0m\u001b[0;34m\u001b[0m\u001b[0m\n\u001b[0m",
            "\u001b[0;31mTypeError\u001b[0m: 'method' object is not subscriptable"
          ]
        }
      ]
    },
    {
      "metadata": {
        "id": "AqY_zcFI0ID2",
        "colab_type": "code",
        "outputId": "171152d9-b42a-4b08-f9c6-e80539bb43c8",
        "colab": {
          "base_uri": "https://localhost:8080/",
          "height": 34
        }
      },
      "cell_type": "code",
      "source": [
        "df_test.shape"
      ],
      "execution_count": 0,
      "outputs": [
        {
          "output_type": "execute_result",
          "data": {
            "text/plain": [
              "(5681, 11)"
            ]
          },
          "metadata": {
            "tags": []
          },
          "execution_count": 50
        }
      ]
    },
    {
      "metadata": {
        "id": "GvhB6rCS41SY",
        "colab_type": "code",
        "colab": {}
      },
      "cell_type": "code",
      "source": [
        "x=iter(data.test_dl)"
      ],
      "execution_count": 0,
      "outputs": []
    },
    {
      "metadata": {
        "id": "bCXbXOo07TmY",
        "colab_type": "code",
        "outputId": "09703502-d1ab-4544-d3bb-7f2745135850",
        "colab": {
          "base_uri": "https://localhost:8080/",
          "height": 34
        }
      },
      "cell_type": "code",
      "source": [
        "print(x)"
      ],
      "execution_count": 0,
      "outputs": [
        {
          "output_type": "stream",
          "text": [
            "<generator object DeviceDataLoader.__iter__ at 0x7f560f7c2258>\n"
          ],
          "name": "stdout"
        }
      ]
    },
    {
      "metadata": {
        "id": "R_rIl0IU7oFa",
        "colab_type": "code",
        "colab": {}
      },
      "cell_type": "code",
      "source": [
        ""
      ],
      "execution_count": 0,
      "outputs": []
    }
  ]
}